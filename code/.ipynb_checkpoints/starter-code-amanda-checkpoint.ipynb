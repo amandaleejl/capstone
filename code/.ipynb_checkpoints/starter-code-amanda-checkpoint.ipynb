{
 "cells": [
  {
   "cell_type": "markdown",
   "metadata": {},
   "source": [
    "# Capstone: Airbnb Price Predictions (Singapore)"
   ]
  },
  {
   "cell_type": "markdown",
   "metadata": {},
   "source": [
    "## Problem Statement\n",
    "---\n",
    "\n",
    "I will build a regression model to predict the listing price of houses to be listed on the Airbnb websits. Model performance will be guided by RMSE, and the model should at least imporve upon baseline by 10%. \n",
    "Baseline is defined as the average daily costs per night for a housing listing in Singapore.\n",
    "\n",
    "## Executive Summary\n",
    "---\n",
    "\n",
    "This Jupyter notebook walks through the price prediction for potential Airbnb hosts. \n",
    "\n",
    "Airbnb provides easy access for users looking for a apartment rentals in Singapore, with information provided by the hosts on the platform. However, it might not be as convenient for potential listers. One challenge that Airbnb hosts might face is in determining an optimal rent price to rent out their spaces.\n",
    " \n",
    "\n",
    "### Contents:\n",
    "- [Data Import & Cleaning](#Data-Import-&-Cleaning)\n",
    "- [Preprocessing](#Preprocessing)\n",
    "- [EDA & Modeling](#EDA-&-Modeling)\n",
    "- [Evaluation and Conceptual Understanding](#Evaluation-and-Conceptual-Understanding)\n",
    "- [Conclusions and Recommendations](#Conclusions-and-Recommendations)\n",
    "\n",
    "---"
   ]
  },
  {
   "cell_type": "code",
   "execution_count": 1,
   "metadata": {},
   "outputs": [],
   "source": [
    "# imports:\n",
    "\n",
    "#maths\n",
    "import pandas as pd\n",
    "import numpy as np\n",
    "import scipy.stats as stats\n",
    "\n",
    "#visual\n",
    "import seaborn as sns\n",
    "import matplotlib.pyplot as plt\n",
    "\n",
    "#modelling\n",
    "from sklearn.linear_model import LinearRegression, LogisticRegression\n",
    "from sklearn import linear_model\n",
    "from sklearn.model_selection import train_test_split, cross_val_score, GridSearchCV\n",
    "from sklearn.preprocessing import StandardScaler, PolynomialFeatures\n",
    "from sklearn.linear_model import Ridge, Lasso\n",
    "from sklearn.metrics import r2_score, mean_squared_error, confusion_matrix, accuracy_score, roc_auc_score\n",
    "from sklearn.pipeline import make_pipeline, Pipeline\n",
    "\n",
    "%matplotlib inline\n",
    "\n",
    "#To visualize the whole grid\n",
    "pd.options.display.max_columns = 999\n",
    "\n",
    "plt.style.use('fivethirtyeight')"
   ]
  },
  {
   "cell_type": "markdown",
   "metadata": {},
   "source": [
    "## Data Import & Cleaning\n",
    "---\n",
    "#### Read Airbnb Singapore datasets \n",
    "\n",
    "Read in the `listing.csv` files and assign it to an appropriately named pandas dataframes."
   ]
  },
  {
   "cell_type": "code",
   "execution_count": 2,
   "metadata": {},
   "outputs": [],
   "source": [
    "airbnb_data = pd.read_csv('../data/listings.csv')"
   ]
  },
  {
   "cell_type": "code",
   "execution_count": 3,
   "metadata": {
    "scrolled": true
   },
   "outputs": [
    {
     "name": "stdout",
     "output_type": "stream",
     "text": [
      "<class 'pandas.core.frame.DataFrame'>\n",
      "RangeIndex: 8047 entries, 0 to 8046\n",
      "Columns: 106 entries, id to reviews_per_month\n",
      "dtypes: float64(20), int64(23), object(63)\n",
      "memory usage: 6.5+ MB\n"
     ]
    }
   ],
   "source": [
    "airbnb_data.info()"
   ]
  },
  {
   "cell_type": "code",
   "execution_count": 4,
   "metadata": {},
   "outputs": [],
   "source": [
    "airbnb_data.drop_duplicates(subset = 'name', inplace = True)"
   ]
  },
  {
   "cell_type": "code",
   "execution_count": 5,
   "metadata": {
    "scrolled": true
   },
   "outputs": [
    {
     "data": {
      "text/plain": [
       "['id',\n",
       " 'listing_url',\n",
       " 'scrape_id',\n",
       " 'last_scraped',\n",
       " 'name',\n",
       " 'summary',\n",
       " 'space',\n",
       " 'description',\n",
       " 'experiences_offered',\n",
       " 'neighborhood_overview']"
      ]
     },
     "execution_count": 5,
     "metadata": {},
     "output_type": "execute_result"
    }
   ],
   "source": [
    "# display all cols of airbnb data\n",
    "airbnb_cols = airbnb_data.columns.tolist()\n",
    "\n",
    "# display the first 10 columns\n",
    "airbnb_cols[:10]"
   ]
  },
  {
   "cell_type": "markdown",
   "metadata": {},
   "source": [
    "#### Display Data"
   ]
  },
  {
   "cell_type": "code",
   "execution_count": 6,
   "metadata": {
    "scrolled": false
   },
   "outputs": [
    {
     "data": {
      "text/html": [
       "<div>\n",
       "<style scoped>\n",
       "    .dataframe tbody tr th:only-of-type {\n",
       "        vertical-align: middle;\n",
       "    }\n",
       "\n",
       "    .dataframe tbody tr th {\n",
       "        vertical-align: top;\n",
       "    }\n",
       "\n",
       "    .dataframe thead th {\n",
       "        text-align: right;\n",
       "    }\n",
       "</style>\n",
       "<table border=\"1\" class=\"dataframe\">\n",
       "  <thead>\n",
       "    <tr style=\"text-align: right;\">\n",
       "      <th></th>\n",
       "      <th>id</th>\n",
       "      <th>listing_url</th>\n",
       "      <th>scrape_id</th>\n",
       "      <th>last_scraped</th>\n",
       "      <th>name</th>\n",
       "      <th>summary</th>\n",
       "      <th>space</th>\n",
       "      <th>description</th>\n",
       "      <th>experiences_offered</th>\n",
       "      <th>neighborhood_overview</th>\n",
       "      <th>notes</th>\n",
       "      <th>transit</th>\n",
       "      <th>access</th>\n",
       "      <th>interaction</th>\n",
       "      <th>house_rules</th>\n",
       "      <th>thumbnail_url</th>\n",
       "      <th>medium_url</th>\n",
       "      <th>picture_url</th>\n",
       "      <th>xl_picture_url</th>\n",
       "      <th>host_id</th>\n",
       "      <th>host_url</th>\n",
       "      <th>host_name</th>\n",
       "      <th>host_since</th>\n",
       "      <th>host_location</th>\n",
       "      <th>host_about</th>\n",
       "      <th>host_response_time</th>\n",
       "      <th>host_response_rate</th>\n",
       "      <th>host_acceptance_rate</th>\n",
       "      <th>host_is_superhost</th>\n",
       "      <th>host_thumbnail_url</th>\n",
       "      <th>host_picture_url</th>\n",
       "      <th>host_neighbourhood</th>\n",
       "      <th>host_listings_count</th>\n",
       "      <th>host_total_listings_count</th>\n",
       "      <th>host_verifications</th>\n",
       "      <th>host_has_profile_pic</th>\n",
       "      <th>host_identity_verified</th>\n",
       "      <th>street</th>\n",
       "      <th>neighbourhood</th>\n",
       "      <th>neighbourhood_cleansed</th>\n",
       "      <th>neighbourhood_group_cleansed</th>\n",
       "      <th>city</th>\n",
       "      <th>state</th>\n",
       "      <th>zipcode</th>\n",
       "      <th>market</th>\n",
       "      <th>smart_location</th>\n",
       "      <th>country_code</th>\n",
       "      <th>country</th>\n",
       "      <th>latitude</th>\n",
       "      <th>longitude</th>\n",
       "      <th>is_location_exact</th>\n",
       "      <th>property_type</th>\n",
       "      <th>room_type</th>\n",
       "      <th>accommodates</th>\n",
       "      <th>bathrooms</th>\n",
       "      <th>bedrooms</th>\n",
       "      <th>beds</th>\n",
       "      <th>bed_type</th>\n",
       "      <th>amenities</th>\n",
       "      <th>square_feet</th>\n",
       "      <th>price</th>\n",
       "      <th>weekly_price</th>\n",
       "      <th>monthly_price</th>\n",
       "      <th>security_deposit</th>\n",
       "      <th>cleaning_fee</th>\n",
       "      <th>guests_included</th>\n",
       "      <th>extra_people</th>\n",
       "      <th>minimum_nights</th>\n",
       "      <th>maximum_nights</th>\n",
       "      <th>minimum_minimum_nights</th>\n",
       "      <th>maximum_minimum_nights</th>\n",
       "      <th>minimum_maximum_nights</th>\n",
       "      <th>maximum_maximum_nights</th>\n",
       "      <th>minimum_nights_avg_ntm</th>\n",
       "      <th>maximum_nights_avg_ntm</th>\n",
       "      <th>calendar_updated</th>\n",
       "      <th>has_availability</th>\n",
       "      <th>availability_30</th>\n",
       "      <th>availability_60</th>\n",
       "      <th>availability_90</th>\n",
       "      <th>availability_365</th>\n",
       "      <th>calendar_last_scraped</th>\n",
       "      <th>number_of_reviews</th>\n",
       "      <th>number_of_reviews_ltm</th>\n",
       "      <th>first_review</th>\n",
       "      <th>last_review</th>\n",
       "      <th>review_scores_rating</th>\n",
       "      <th>review_scores_accuracy</th>\n",
       "      <th>review_scores_cleanliness</th>\n",
       "      <th>review_scores_checkin</th>\n",
       "      <th>review_scores_communication</th>\n",
       "      <th>review_scores_location</th>\n",
       "      <th>review_scores_value</th>\n",
       "      <th>requires_license</th>\n",
       "      <th>license</th>\n",
       "      <th>jurisdiction_names</th>\n",
       "      <th>instant_bookable</th>\n",
       "      <th>is_business_travel_ready</th>\n",
       "      <th>cancellation_policy</th>\n",
       "      <th>require_guest_profile_picture</th>\n",
       "      <th>require_guest_phone_verification</th>\n",
       "      <th>calculated_host_listings_count</th>\n",
       "      <th>calculated_host_listings_count_entire_homes</th>\n",
       "      <th>calculated_host_listings_count_private_rooms</th>\n",
       "      <th>calculated_host_listings_count_shared_rooms</th>\n",
       "      <th>reviews_per_month</th>\n",
       "    </tr>\n",
       "  </thead>\n",
       "  <tbody>\n",
       "    <tr>\n",
       "      <th>0</th>\n",
       "      <td>49091</td>\n",
       "      <td>https://www.airbnb.com/rooms/49091</td>\n",
       "      <td>20200227171146</td>\n",
       "      <td>2020-02-28</td>\n",
       "      <td>COZICOMFORT LONG TERM STAY ROOM 2</td>\n",
       "      <td>NaN</td>\n",
       "      <td>This is Room No. 2.(available after Jan 15 201...</td>\n",
       "      <td>This is Room No. 2.(available after Jan 15 201...</td>\n",
       "      <td>none</td>\n",
       "      <td>NaN</td>\n",
       "      <td>NaN</td>\n",
       "      <td>NaN</td>\n",
       "      <td>NaN</td>\n",
       "      <td>NaN</td>\n",
       "      <td>No smoking indoors. Please turn off lights/fan...</td>\n",
       "      <td>NaN</td>\n",
       "      <td>NaN</td>\n",
       "      <td>https://a0.muscache.com/im/pictures/24485541/6...</td>\n",
       "      <td>NaN</td>\n",
       "      <td>266763</td>\n",
       "      <td>https://www.airbnb.com/users/show/266763</td>\n",
       "      <td>Francesca</td>\n",
       "      <td>2010-10-20</td>\n",
       "      <td>singapore</td>\n",
       "      <td>I am a private tutor by profession. My husband...</td>\n",
       "      <td>within a day</td>\n",
       "      <td>100%</td>\n",
       "      <td>NaN</td>\n",
       "      <td>f</td>\n",
       "      <td>https://a0.muscache.com/im/pictures/user/c9b1c...</td>\n",
       "      <td>https://a0.muscache.com/im/pictures/user/c9b1c...</td>\n",
       "      <td>Woodlands</td>\n",
       "      <td>2</td>\n",
       "      <td>2</td>\n",
       "      <td>['email', 'phone', 'facebook', 'reviews', 'jum...</td>\n",
       "      <td>t</td>\n",
       "      <td>f</td>\n",
       "      <td>Singapore, Singapore</td>\n",
       "      <td>Woodlands</td>\n",
       "      <td>Woodlands</td>\n",
       "      <td>North Region</td>\n",
       "      <td>Singapore</td>\n",
       "      <td>NaN</td>\n",
       "      <td>730702</td>\n",
       "      <td>Singapore</td>\n",
       "      <td>Singapore</td>\n",
       "      <td>SG</td>\n",
       "      <td>Singapore</td>\n",
       "      <td>1.44255</td>\n",
       "      <td>103.79580</td>\n",
       "      <td>t</td>\n",
       "      <td>Apartment</td>\n",
       "      <td>Private room</td>\n",
       "      <td>1</td>\n",
       "      <td>1.0</td>\n",
       "      <td>1.0</td>\n",
       "      <td>1.0</td>\n",
       "      <td>Real Bed</td>\n",
       "      <td>{TV,\"Cable TV\",Internet,Wifi,\"Air conditioning...</td>\n",
       "      <td>0.0</td>\n",
       "      <td>$84.00</td>\n",
       "      <td>NaN</td>\n",
       "      <td>$1,047.00</td>\n",
       "      <td>NaN</td>\n",
       "      <td>NaN</td>\n",
       "      <td>1</td>\n",
       "      <td>$14.00</td>\n",
       "      <td>180</td>\n",
       "      <td>360</td>\n",
       "      <td>180</td>\n",
       "      <td>180</td>\n",
       "      <td>360</td>\n",
       "      <td>360</td>\n",
       "      <td>180.0</td>\n",
       "      <td>360.0</td>\n",
       "      <td>69 months ago</td>\n",
       "      <td>t</td>\n",
       "      <td>30</td>\n",
       "      <td>60</td>\n",
       "      <td>90</td>\n",
       "      <td>365</td>\n",
       "      <td>2020-02-28</td>\n",
       "      <td>1</td>\n",
       "      <td>0</td>\n",
       "      <td>2013-10-21</td>\n",
       "      <td>2013-10-21</td>\n",
       "      <td>94.0</td>\n",
       "      <td>10.0</td>\n",
       "      <td>10.0</td>\n",
       "      <td>10.0</td>\n",
       "      <td>10.0</td>\n",
       "      <td>8.0</td>\n",
       "      <td>8.0</td>\n",
       "      <td>f</td>\n",
       "      <td>NaN</td>\n",
       "      <td>NaN</td>\n",
       "      <td>f</td>\n",
       "      <td>f</td>\n",
       "      <td>flexible</td>\n",
       "      <td>t</td>\n",
       "      <td>t</td>\n",
       "      <td>2</td>\n",
       "      <td>0</td>\n",
       "      <td>2</td>\n",
       "      <td>0</td>\n",
       "      <td>0.01</td>\n",
       "    </tr>\n",
       "    <tr>\n",
       "      <th>1</th>\n",
       "      <td>50646</td>\n",
       "      <td>https://www.airbnb.com/rooms/50646</td>\n",
       "      <td>20200227171146</td>\n",
       "      <td>2020-02-27</td>\n",
       "      <td>Pleasant Room along Bukit Timah</td>\n",
       "      <td>Fully furnished bedroom with a nice view on th...</td>\n",
       "      <td>Good Condition room, bright &amp; windy. Comes wit...</td>\n",
       "      <td>Fully furnished bedroom with a nice view on th...</td>\n",
       "      <td>none</td>\n",
       "      <td>The serenity &amp; quiet surrounding makes it an i...</td>\n",
       "      <td>Accommodation has a queen size bed.  Suitable ...</td>\n",
       "      <td>Less than 400m from the apartment is the main ...</td>\n",
       "      <td>Kitchen, washing facilities, gym, swimming poo...</td>\n",
       "      <td>We love to host people &amp; have the opportunity ...</td>\n",
       "      <td>'- Should be family friendly. '- Cooking is no...</td>\n",
       "      <td>NaN</td>\n",
       "      <td>NaN</td>\n",
       "      <td>https://a0.muscache.com/im/pictures/36342984/6...</td>\n",
       "      <td>NaN</td>\n",
       "      <td>227796</td>\n",
       "      <td>https://www.airbnb.com/users/show/227796</td>\n",
       "      <td>Sujatha</td>\n",
       "      <td>2010-09-08</td>\n",
       "      <td>Singapore, Singapore</td>\n",
       "      <td>I am a working professional, living in Singapo...</td>\n",
       "      <td>within a day</td>\n",
       "      <td>100%</td>\n",
       "      <td>NaN</td>\n",
       "      <td>f</td>\n",
       "      <td>https://a0.muscache.com/im/pictures/user/8fd2c...</td>\n",
       "      <td>https://a0.muscache.com/im/pictures/user/8fd2c...</td>\n",
       "      <td>Bukit Timah</td>\n",
       "      <td>1</td>\n",
       "      <td>1</td>\n",
       "      <td>['email', 'phone', 'facebook', 'reviews', 'off...</td>\n",
       "      <td>t</td>\n",
       "      <td>f</td>\n",
       "      <td>Singapore, Singapore</td>\n",
       "      <td>Bukit Timah</td>\n",
       "      <td>Bukit Timah</td>\n",
       "      <td>Central Region</td>\n",
       "      <td>Singapore</td>\n",
       "      <td>NaN</td>\n",
       "      <td>589664</td>\n",
       "      <td>Singapore</td>\n",
       "      <td>Singapore</td>\n",
       "      <td>SG</td>\n",
       "      <td>Singapore</td>\n",
       "      <td>1.33235</td>\n",
       "      <td>103.78521</td>\n",
       "      <td>t</td>\n",
       "      <td>Apartment</td>\n",
       "      <td>Private room</td>\n",
       "      <td>2</td>\n",
       "      <td>1.0</td>\n",
       "      <td>1.0</td>\n",
       "      <td>1.0</td>\n",
       "      <td>Real Bed</td>\n",
       "      <td>{TV,\"Cable TV\",Internet,Wifi,\"Air conditioning...</td>\n",
       "      <td>NaN</td>\n",
       "      <td>$80.00</td>\n",
       "      <td>$400.00</td>\n",
       "      <td>$1,600.00</td>\n",
       "      <td>NaN</td>\n",
       "      <td>NaN</td>\n",
       "      <td>2</td>\n",
       "      <td>$20.00</td>\n",
       "      <td>90</td>\n",
       "      <td>730</td>\n",
       "      <td>90</td>\n",
       "      <td>90</td>\n",
       "      <td>730</td>\n",
       "      <td>730</td>\n",
       "      <td>90.0</td>\n",
       "      <td>730.0</td>\n",
       "      <td>67 months ago</td>\n",
       "      <td>t</td>\n",
       "      <td>30</td>\n",
       "      <td>60</td>\n",
       "      <td>90</td>\n",
       "      <td>365</td>\n",
       "      <td>2020-02-27</td>\n",
       "      <td>18</td>\n",
       "      <td>0</td>\n",
       "      <td>2014-04-18</td>\n",
       "      <td>2014-12-26</td>\n",
       "      <td>91.0</td>\n",
       "      <td>9.0</td>\n",
       "      <td>10.0</td>\n",
       "      <td>10.0</td>\n",
       "      <td>10.0</td>\n",
       "      <td>9.0</td>\n",
       "      <td>9.0</td>\n",
       "      <td>f</td>\n",
       "      <td>NaN</td>\n",
       "      <td>NaN</td>\n",
       "      <td>f</td>\n",
       "      <td>f</td>\n",
       "      <td>moderate</td>\n",
       "      <td>f</td>\n",
       "      <td>t</td>\n",
       "      <td>1</td>\n",
       "      <td>0</td>\n",
       "      <td>1</td>\n",
       "      <td>0</td>\n",
       "      <td>0.25</td>\n",
       "    </tr>\n",
       "    <tr>\n",
       "      <th>2</th>\n",
       "      <td>56334</td>\n",
       "      <td>https://www.airbnb.com/rooms/56334</td>\n",
       "      <td>20200227171146</td>\n",
       "      <td>2020-02-28</td>\n",
       "      <td>COZICOMFORT</td>\n",
       "      <td>NaN</td>\n",
       "      <td>This is Room no. 1. USD700 per month On the fa...</td>\n",
       "      <td>This is Room no. 1. USD700 per month On the fa...</td>\n",
       "      <td>none</td>\n",
       "      <td>NaN</td>\n",
       "      <td>NaN</td>\n",
       "      <td>NaN</td>\n",
       "      <td>NaN</td>\n",
       "      <td>NaN</td>\n",
       "      <td>No smoking indoors. Please turn off lights/air...</td>\n",
       "      <td>NaN</td>\n",
       "      <td>NaN</td>\n",
       "      <td>https://a0.muscache.com/im/pictures/20783922/1...</td>\n",
       "      <td>NaN</td>\n",
       "      <td>266763</td>\n",
       "      <td>https://www.airbnb.com/users/show/266763</td>\n",
       "      <td>Francesca</td>\n",
       "      <td>2010-10-20</td>\n",
       "      <td>singapore</td>\n",
       "      <td>I am a private tutor by profession. My husband...</td>\n",
       "      <td>within a day</td>\n",
       "      <td>100%</td>\n",
       "      <td>NaN</td>\n",
       "      <td>f</td>\n",
       "      <td>https://a0.muscache.com/im/pictures/user/c9b1c...</td>\n",
       "      <td>https://a0.muscache.com/im/pictures/user/c9b1c...</td>\n",
       "      <td>Woodlands</td>\n",
       "      <td>2</td>\n",
       "      <td>2</td>\n",
       "      <td>['email', 'phone', 'facebook', 'reviews', 'jum...</td>\n",
       "      <td>t</td>\n",
       "      <td>f</td>\n",
       "      <td>Singapore, Singapore</td>\n",
       "      <td>Woodlands</td>\n",
       "      <td>Woodlands</td>\n",
       "      <td>North Region</td>\n",
       "      <td>Singapore</td>\n",
       "      <td>NaN</td>\n",
       "      <td>NaN</td>\n",
       "      <td>Singapore</td>\n",
       "      <td>Singapore</td>\n",
       "      <td>SG</td>\n",
       "      <td>Singapore</td>\n",
       "      <td>1.44246</td>\n",
       "      <td>103.79667</td>\n",
       "      <td>t</td>\n",
       "      <td>Apartment</td>\n",
       "      <td>Private room</td>\n",
       "      <td>1</td>\n",
       "      <td>1.0</td>\n",
       "      <td>1.0</td>\n",
       "      <td>1.0</td>\n",
       "      <td>Real Bed</td>\n",
       "      <td>{TV,\"Cable TV\",Wifi,\"Air conditioning\",Kitchen...</td>\n",
       "      <td>0.0</td>\n",
       "      <td>$70.00</td>\n",
       "      <td>NaN</td>\n",
       "      <td>$977.00</td>\n",
       "      <td>NaN</td>\n",
       "      <td>NaN</td>\n",
       "      <td>1</td>\n",
       "      <td>$14.00</td>\n",
       "      <td>6</td>\n",
       "      <td>14</td>\n",
       "      <td>6</td>\n",
       "      <td>6</td>\n",
       "      <td>14</td>\n",
       "      <td>14</td>\n",
       "      <td>6.0</td>\n",
       "      <td>14.0</td>\n",
       "      <td>64 months ago</td>\n",
       "      <td>t</td>\n",
       "      <td>30</td>\n",
       "      <td>60</td>\n",
       "      <td>90</td>\n",
       "      <td>365</td>\n",
       "      <td>2020-02-28</td>\n",
       "      <td>20</td>\n",
       "      <td>0</td>\n",
       "      <td>2011-06-25</td>\n",
       "      <td>2015-10-01</td>\n",
       "      <td>98.0</td>\n",
       "      <td>10.0</td>\n",
       "      <td>10.0</td>\n",
       "      <td>10.0</td>\n",
       "      <td>10.0</td>\n",
       "      <td>8.0</td>\n",
       "      <td>9.0</td>\n",
       "      <td>f</td>\n",
       "      <td>NaN</td>\n",
       "      <td>NaN</td>\n",
       "      <td>f</td>\n",
       "      <td>f</td>\n",
       "      <td>flexible</td>\n",
       "      <td>t</td>\n",
       "      <td>t</td>\n",
       "      <td>2</td>\n",
       "      <td>0</td>\n",
       "      <td>2</td>\n",
       "      <td>0</td>\n",
       "      <td>0.19</td>\n",
       "    </tr>\n",
       "    <tr>\n",
       "      <th>3</th>\n",
       "      <td>71609</td>\n",
       "      <td>https://www.airbnb.com/rooms/71609</td>\n",
       "      <td>20200227171146</td>\n",
       "      <td>2020-02-28</td>\n",
       "      <td>Ensuite Room (Room 1 &amp; 2) near EXPO</td>\n",
       "      <td>For 3 (Website hidden by Airbnb) room 1&amp;2 and ...</td>\n",
       "      <td>Landed Homestay Room for Rental. Between Simei...</td>\n",
       "      <td>For 3 (Website hidden by Airbnb) room 1&amp;2 and ...</td>\n",
       "      <td>none</td>\n",
       "      <td>NaN</td>\n",
       "      <td>Incase there is some changes in the rooms allo...</td>\n",
       "      <td>NaN</td>\n",
       "      <td>NaN</td>\n",
       "      <td>NaN</td>\n",
       "      <td>Home Stay Rules  House Rules &amp; Check in Requir...</td>\n",
       "      <td>NaN</td>\n",
       "      <td>NaN</td>\n",
       "      <td>https://a0.muscache.com/im/pictures/24453191/3...</td>\n",
       "      <td>NaN</td>\n",
       "      <td>367042</td>\n",
       "      <td>https://www.airbnb.com/users/show/367042</td>\n",
       "      <td>Belinda</td>\n",
       "      <td>2011-01-29</td>\n",
       "      <td>Singapore</td>\n",
       "      <td>Hi My name is Belinda -Housekeeper \\r\\n\\r\\nI w...</td>\n",
       "      <td>within an hour</td>\n",
       "      <td>100%</td>\n",
       "      <td>100%</td>\n",
       "      <td>f</td>\n",
       "      <td>https://a0.muscache.com/im/users/367042/profil...</td>\n",
       "      <td>https://a0.muscache.com/im/users/367042/profil...</td>\n",
       "      <td>Tampines</td>\n",
       "      <td>8</td>\n",
       "      <td>8</td>\n",
       "      <td>['email', 'phone', 'reviews', 'manual_offline'...</td>\n",
       "      <td>t</td>\n",
       "      <td>t</td>\n",
       "      <td>Singapore, Singapore</td>\n",
       "      <td>Tampines</td>\n",
       "      <td>Tampines</td>\n",
       "      <td>East Region</td>\n",
       "      <td>Singapore</td>\n",
       "      <td>NaN</td>\n",
       "      <td>488405</td>\n",
       "      <td>Singapore</td>\n",
       "      <td>Singapore</td>\n",
       "      <td>SG</td>\n",
       "      <td>Singapore</td>\n",
       "      <td>1.34541</td>\n",
       "      <td>103.95712</td>\n",
       "      <td>t</td>\n",
       "      <td>Villa</td>\n",
       "      <td>Private room</td>\n",
       "      <td>6</td>\n",
       "      <td>1.0</td>\n",
       "      <td>2.0</td>\n",
       "      <td>3.0</td>\n",
       "      <td>Real Bed</td>\n",
       "      <td>{TV,Wifi,\"Air conditioning\",Kitchen,\"Pets live...</td>\n",
       "      <td>205.0</td>\n",
       "      <td>$207.00</td>\n",
       "      <td>NaN</td>\n",
       "      <td>$5,582.00</td>\n",
       "      <td>$279.00</td>\n",
       "      <td>$56.00</td>\n",
       "      <td>4</td>\n",
       "      <td>$28.00</td>\n",
       "      <td>1</td>\n",
       "      <td>1125</td>\n",
       "      <td>1</td>\n",
       "      <td>1</td>\n",
       "      <td>1125</td>\n",
       "      <td>1125</td>\n",
       "      <td>1.0</td>\n",
       "      <td>1125.0</td>\n",
       "      <td>2 weeks ago</td>\n",
       "      <td>t</td>\n",
       "      <td>30</td>\n",
       "      <td>60</td>\n",
       "      <td>90</td>\n",
       "      <td>365</td>\n",
       "      <td>2020-02-28</td>\n",
       "      <td>20</td>\n",
       "      <td>8</td>\n",
       "      <td>2011-12-19</td>\n",
       "      <td>2020-01-17</td>\n",
       "      <td>89.0</td>\n",
       "      <td>9.0</td>\n",
       "      <td>8.0</td>\n",
       "      <td>9.0</td>\n",
       "      <td>10.0</td>\n",
       "      <td>9.0</td>\n",
       "      <td>9.0</td>\n",
       "      <td>f</td>\n",
       "      <td>NaN</td>\n",
       "      <td>NaN</td>\n",
       "      <td>t</td>\n",
       "      <td>f</td>\n",
       "      <td>flexible</td>\n",
       "      <td>f</td>\n",
       "      <td>t</td>\n",
       "      <td>8</td>\n",
       "      <td>0</td>\n",
       "      <td>8</td>\n",
       "      <td>0</td>\n",
       "      <td>0.20</td>\n",
       "    </tr>\n",
       "    <tr>\n",
       "      <th>4</th>\n",
       "      <td>71896</td>\n",
       "      <td>https://www.airbnb.com/rooms/71896</td>\n",
       "      <td>20200227171146</td>\n",
       "      <td>2020-02-28</td>\n",
       "      <td>B&amp;B  Room 1 near Airport &amp; EXPO</td>\n",
       "      <td>NaN</td>\n",
       "      <td>Vocational Stay Deluxe Bedroom in Singapore.(N...</td>\n",
       "      <td>Vocational Stay Deluxe Bedroom in Singapore.(N...</td>\n",
       "      <td>none</td>\n",
       "      <td>NaN</td>\n",
       "      <td>Incase there is some changes in the rooms allo...</td>\n",
       "      <td>NaN</td>\n",
       "      <td>NaN</td>\n",
       "      <td>NaN</td>\n",
       "      <td>Vocational Stay Rules  - Do not excessively me...</td>\n",
       "      <td>NaN</td>\n",
       "      <td>NaN</td>\n",
       "      <td>https://a0.muscache.com/im/pictures/2440674/ac...</td>\n",
       "      <td>NaN</td>\n",
       "      <td>367042</td>\n",
       "      <td>https://www.airbnb.com/users/show/367042</td>\n",
       "      <td>Belinda</td>\n",
       "      <td>2011-01-29</td>\n",
       "      <td>Singapore</td>\n",
       "      <td>Hi My name is Belinda -Housekeeper \\r\\n\\r\\nI w...</td>\n",
       "      <td>within an hour</td>\n",
       "      <td>100%</td>\n",
       "      <td>100%</td>\n",
       "      <td>f</td>\n",
       "      <td>https://a0.muscache.com/im/users/367042/profil...</td>\n",
       "      <td>https://a0.muscache.com/im/users/367042/profil...</td>\n",
       "      <td>Tampines</td>\n",
       "      <td>8</td>\n",
       "      <td>8</td>\n",
       "      <td>['email', 'phone', 'reviews', 'manual_offline'...</td>\n",
       "      <td>t</td>\n",
       "      <td>t</td>\n",
       "      <td>Singapore, Singapore</td>\n",
       "      <td>Tampines</td>\n",
       "      <td>Tampines</td>\n",
       "      <td>East Region</td>\n",
       "      <td>Singapore</td>\n",
       "      <td>NaN</td>\n",
       "      <td>488405</td>\n",
       "      <td>Singapore</td>\n",
       "      <td>Singapore</td>\n",
       "      <td>SG</td>\n",
       "      <td>Singapore</td>\n",
       "      <td>1.34567</td>\n",
       "      <td>103.95963</td>\n",
       "      <td>t</td>\n",
       "      <td>House</td>\n",
       "      <td>Private room</td>\n",
       "      <td>3</td>\n",
       "      <td>0.5</td>\n",
       "      <td>1.0</td>\n",
       "      <td>1.0</td>\n",
       "      <td>Real Bed</td>\n",
       "      <td>{TV,Internet,Wifi,\"Air conditioning\",Kitchen,\"...</td>\n",
       "      <td>NaN</td>\n",
       "      <td>$95.00</td>\n",
       "      <td>$698.00</td>\n",
       "      <td>$2,512.00</td>\n",
       "      <td>$140.00</td>\n",
       "      <td>$28.00</td>\n",
       "      <td>1</td>\n",
       "      <td>$21.00</td>\n",
       "      <td>1</td>\n",
       "      <td>1125</td>\n",
       "      <td>1</td>\n",
       "      <td>1</td>\n",
       "      <td>1125</td>\n",
       "      <td>1125</td>\n",
       "      <td>1.0</td>\n",
       "      <td>1125.0</td>\n",
       "      <td>2 weeks ago</td>\n",
       "      <td>t</td>\n",
       "      <td>30</td>\n",
       "      <td>60</td>\n",
       "      <td>90</td>\n",
       "      <td>365</td>\n",
       "      <td>2020-02-28</td>\n",
       "      <td>24</td>\n",
       "      <td>4</td>\n",
       "      <td>2011-07-30</td>\n",
       "      <td>2019-10-13</td>\n",
       "      <td>83.0</td>\n",
       "      <td>8.0</td>\n",
       "      <td>8.0</td>\n",
       "      <td>9.0</td>\n",
       "      <td>9.0</td>\n",
       "      <td>8.0</td>\n",
       "      <td>8.0</td>\n",
       "      <td>f</td>\n",
       "      <td>NaN</td>\n",
       "      <td>NaN</td>\n",
       "      <td>t</td>\n",
       "      <td>f</td>\n",
       "      <td>moderate</td>\n",
       "      <td>f</td>\n",
       "      <td>t</td>\n",
       "      <td>8</td>\n",
       "      <td>0</td>\n",
       "      <td>8</td>\n",
       "      <td>0</td>\n",
       "      <td>0.23</td>\n",
       "    </tr>\n",
       "  </tbody>\n",
       "</table>\n",
       "</div>"
      ],
      "text/plain": [
       "      id                         listing_url       scrape_id last_scraped  \\\n",
       "0  49091  https://www.airbnb.com/rooms/49091  20200227171146   2020-02-28   \n",
       "1  50646  https://www.airbnb.com/rooms/50646  20200227171146   2020-02-27   \n",
       "2  56334  https://www.airbnb.com/rooms/56334  20200227171146   2020-02-28   \n",
       "3  71609  https://www.airbnb.com/rooms/71609  20200227171146   2020-02-28   \n",
       "4  71896  https://www.airbnb.com/rooms/71896  20200227171146   2020-02-28   \n",
       "\n",
       "                                  name  \\\n",
       "0    COZICOMFORT LONG TERM STAY ROOM 2   \n",
       "1      Pleasant Room along Bukit Timah   \n",
       "2                          COZICOMFORT   \n",
       "3  Ensuite Room (Room 1 & 2) near EXPO   \n",
       "4      B&B  Room 1 near Airport & EXPO   \n",
       "\n",
       "                                             summary  \\\n",
       "0                                                NaN   \n",
       "1  Fully furnished bedroom with a nice view on th...   \n",
       "2                                                NaN   \n",
       "3  For 3 (Website hidden by Airbnb) room 1&2 and ...   \n",
       "4                                                NaN   \n",
       "\n",
       "                                               space  \\\n",
       "0  This is Room No. 2.(available after Jan 15 201...   \n",
       "1  Good Condition room, bright & windy. Comes wit...   \n",
       "2  This is Room no. 1. USD700 per month On the fa...   \n",
       "3  Landed Homestay Room for Rental. Between Simei...   \n",
       "4  Vocational Stay Deluxe Bedroom in Singapore.(N...   \n",
       "\n",
       "                                         description experiences_offered  \\\n",
       "0  This is Room No. 2.(available after Jan 15 201...                none   \n",
       "1  Fully furnished bedroom with a nice view on th...                none   \n",
       "2  This is Room no. 1. USD700 per month On the fa...                none   \n",
       "3  For 3 (Website hidden by Airbnb) room 1&2 and ...                none   \n",
       "4  Vocational Stay Deluxe Bedroom in Singapore.(N...                none   \n",
       "\n",
       "                               neighborhood_overview  \\\n",
       "0                                                NaN   \n",
       "1  The serenity & quiet surrounding makes it an i...   \n",
       "2                                                NaN   \n",
       "3                                                NaN   \n",
       "4                                                NaN   \n",
       "\n",
       "                                               notes  \\\n",
       "0                                                NaN   \n",
       "1  Accommodation has a queen size bed.  Suitable ...   \n",
       "2                                                NaN   \n",
       "3  Incase there is some changes in the rooms allo...   \n",
       "4  Incase there is some changes in the rooms allo...   \n",
       "\n",
       "                                             transit  \\\n",
       "0                                                NaN   \n",
       "1  Less than 400m from the apartment is the main ...   \n",
       "2                                                NaN   \n",
       "3                                                NaN   \n",
       "4                                                NaN   \n",
       "\n",
       "                                              access  \\\n",
       "0                                                NaN   \n",
       "1  Kitchen, washing facilities, gym, swimming poo...   \n",
       "2                                                NaN   \n",
       "3                                                NaN   \n",
       "4                                                NaN   \n",
       "\n",
       "                                         interaction  \\\n",
       "0                                                NaN   \n",
       "1  We love to host people & have the opportunity ...   \n",
       "2                                                NaN   \n",
       "3                                                NaN   \n",
       "4                                                NaN   \n",
       "\n",
       "                                         house_rules  thumbnail_url  \\\n",
       "0  No smoking indoors. Please turn off lights/fan...            NaN   \n",
       "1  '- Should be family friendly. '- Cooking is no...            NaN   \n",
       "2  No smoking indoors. Please turn off lights/air...            NaN   \n",
       "3  Home Stay Rules  House Rules & Check in Requir...            NaN   \n",
       "4  Vocational Stay Rules  - Do not excessively me...            NaN   \n",
       "\n",
       "   medium_url                                        picture_url  \\\n",
       "0         NaN  https://a0.muscache.com/im/pictures/24485541/6...   \n",
       "1         NaN  https://a0.muscache.com/im/pictures/36342984/6...   \n",
       "2         NaN  https://a0.muscache.com/im/pictures/20783922/1...   \n",
       "3         NaN  https://a0.muscache.com/im/pictures/24453191/3...   \n",
       "4         NaN  https://a0.muscache.com/im/pictures/2440674/ac...   \n",
       "\n",
       "   xl_picture_url  host_id                                  host_url  \\\n",
       "0             NaN   266763  https://www.airbnb.com/users/show/266763   \n",
       "1             NaN   227796  https://www.airbnb.com/users/show/227796   \n",
       "2             NaN   266763  https://www.airbnb.com/users/show/266763   \n",
       "3             NaN   367042  https://www.airbnb.com/users/show/367042   \n",
       "4             NaN   367042  https://www.airbnb.com/users/show/367042   \n",
       "\n",
       "   host_name  host_since         host_location  \\\n",
       "0  Francesca  2010-10-20             singapore   \n",
       "1    Sujatha  2010-09-08  Singapore, Singapore   \n",
       "2  Francesca  2010-10-20             singapore   \n",
       "3    Belinda  2011-01-29             Singapore   \n",
       "4    Belinda  2011-01-29             Singapore   \n",
       "\n",
       "                                          host_about host_response_time  \\\n",
       "0  I am a private tutor by profession. My husband...       within a day   \n",
       "1  I am a working professional, living in Singapo...       within a day   \n",
       "2  I am a private tutor by profession. My husband...       within a day   \n",
       "3  Hi My name is Belinda -Housekeeper \\r\\n\\r\\nI w...     within an hour   \n",
       "4  Hi My name is Belinda -Housekeeper \\r\\n\\r\\nI w...     within an hour   \n",
       "\n",
       "  host_response_rate host_acceptance_rate host_is_superhost  \\\n",
       "0               100%                  NaN                 f   \n",
       "1               100%                  NaN                 f   \n",
       "2               100%                  NaN                 f   \n",
       "3               100%                 100%                 f   \n",
       "4               100%                 100%                 f   \n",
       "\n",
       "                                  host_thumbnail_url  \\\n",
       "0  https://a0.muscache.com/im/pictures/user/c9b1c...   \n",
       "1  https://a0.muscache.com/im/pictures/user/8fd2c...   \n",
       "2  https://a0.muscache.com/im/pictures/user/c9b1c...   \n",
       "3  https://a0.muscache.com/im/users/367042/profil...   \n",
       "4  https://a0.muscache.com/im/users/367042/profil...   \n",
       "\n",
       "                                    host_picture_url host_neighbourhood  \\\n",
       "0  https://a0.muscache.com/im/pictures/user/c9b1c...          Woodlands   \n",
       "1  https://a0.muscache.com/im/pictures/user/8fd2c...        Bukit Timah   \n",
       "2  https://a0.muscache.com/im/pictures/user/c9b1c...          Woodlands   \n",
       "3  https://a0.muscache.com/im/users/367042/profil...           Tampines   \n",
       "4  https://a0.muscache.com/im/users/367042/profil...           Tampines   \n",
       "\n",
       "   host_listings_count  host_total_listings_count  \\\n",
       "0                    2                          2   \n",
       "1                    1                          1   \n",
       "2                    2                          2   \n",
       "3                    8                          8   \n",
       "4                    8                          8   \n",
       "\n",
       "                                  host_verifications host_has_profile_pic  \\\n",
       "0  ['email', 'phone', 'facebook', 'reviews', 'jum...                    t   \n",
       "1  ['email', 'phone', 'facebook', 'reviews', 'off...                    t   \n",
       "2  ['email', 'phone', 'facebook', 'reviews', 'jum...                    t   \n",
       "3  ['email', 'phone', 'reviews', 'manual_offline'...                    t   \n",
       "4  ['email', 'phone', 'reviews', 'manual_offline'...                    t   \n",
       "\n",
       "  host_identity_verified                street neighbourhood  \\\n",
       "0                      f  Singapore, Singapore     Woodlands   \n",
       "1                      f  Singapore, Singapore   Bukit Timah   \n",
       "2                      f  Singapore, Singapore     Woodlands   \n",
       "3                      t  Singapore, Singapore      Tampines   \n",
       "4                      t  Singapore, Singapore      Tampines   \n",
       "\n",
       "  neighbourhood_cleansed neighbourhood_group_cleansed       city state  \\\n",
       "0              Woodlands                 North Region  Singapore   NaN   \n",
       "1            Bukit Timah               Central Region  Singapore   NaN   \n",
       "2              Woodlands                 North Region  Singapore   NaN   \n",
       "3               Tampines                  East Region  Singapore   NaN   \n",
       "4               Tampines                  East Region  Singapore   NaN   \n",
       "\n",
       "  zipcode     market smart_location country_code    country  latitude  \\\n",
       "0  730702  Singapore      Singapore           SG  Singapore   1.44255   \n",
       "1  589664  Singapore      Singapore           SG  Singapore   1.33235   \n",
       "2     NaN  Singapore      Singapore           SG  Singapore   1.44246   \n",
       "3  488405  Singapore      Singapore           SG  Singapore   1.34541   \n",
       "4  488405  Singapore      Singapore           SG  Singapore   1.34567   \n",
       "\n",
       "   longitude is_location_exact property_type     room_type  accommodates  \\\n",
       "0  103.79580                 t     Apartment  Private room             1   \n",
       "1  103.78521                 t     Apartment  Private room             2   \n",
       "2  103.79667                 t     Apartment  Private room             1   \n",
       "3  103.95712                 t         Villa  Private room             6   \n",
       "4  103.95963                 t         House  Private room             3   \n",
       "\n",
       "   bathrooms  bedrooms  beds  bed_type  \\\n",
       "0        1.0       1.0   1.0  Real Bed   \n",
       "1        1.0       1.0   1.0  Real Bed   \n",
       "2        1.0       1.0   1.0  Real Bed   \n",
       "3        1.0       2.0   3.0  Real Bed   \n",
       "4        0.5       1.0   1.0  Real Bed   \n",
       "\n",
       "                                           amenities  square_feet    price  \\\n",
       "0  {TV,\"Cable TV\",Internet,Wifi,\"Air conditioning...          0.0   $84.00   \n",
       "1  {TV,\"Cable TV\",Internet,Wifi,\"Air conditioning...          NaN   $80.00   \n",
       "2  {TV,\"Cable TV\",Wifi,\"Air conditioning\",Kitchen...          0.0   $70.00   \n",
       "3  {TV,Wifi,\"Air conditioning\",Kitchen,\"Pets live...        205.0  $207.00   \n",
       "4  {TV,Internet,Wifi,\"Air conditioning\",Kitchen,\"...          NaN   $95.00   \n",
       "\n",
       "  weekly_price monthly_price security_deposit cleaning_fee  guests_included  \\\n",
       "0          NaN     $1,047.00              NaN          NaN                1   \n",
       "1      $400.00     $1,600.00              NaN          NaN                2   \n",
       "2          NaN       $977.00              NaN          NaN                1   \n",
       "3          NaN     $5,582.00          $279.00       $56.00                4   \n",
       "4      $698.00     $2,512.00          $140.00       $28.00                1   \n",
       "\n",
       "  extra_people  minimum_nights  maximum_nights  minimum_minimum_nights  \\\n",
       "0       $14.00             180             360                     180   \n",
       "1       $20.00              90             730                      90   \n",
       "2       $14.00               6              14                       6   \n",
       "3       $28.00               1            1125                       1   \n",
       "4       $21.00               1            1125                       1   \n",
       "\n",
       "   maximum_minimum_nights  minimum_maximum_nights  maximum_maximum_nights  \\\n",
       "0                     180                     360                     360   \n",
       "1                      90                     730                     730   \n",
       "2                       6                      14                      14   \n",
       "3                       1                    1125                    1125   \n",
       "4                       1                    1125                    1125   \n",
       "\n",
       "   minimum_nights_avg_ntm  maximum_nights_avg_ntm calendar_updated  \\\n",
       "0                   180.0                   360.0    69 months ago   \n",
       "1                    90.0                   730.0    67 months ago   \n",
       "2                     6.0                    14.0    64 months ago   \n",
       "3                     1.0                  1125.0      2 weeks ago   \n",
       "4                     1.0                  1125.0      2 weeks ago   \n",
       "\n",
       "  has_availability  availability_30  availability_60  availability_90  \\\n",
       "0                t               30               60               90   \n",
       "1                t               30               60               90   \n",
       "2                t               30               60               90   \n",
       "3                t               30               60               90   \n",
       "4                t               30               60               90   \n",
       "\n",
       "   availability_365 calendar_last_scraped  number_of_reviews  \\\n",
       "0               365            2020-02-28                  1   \n",
       "1               365            2020-02-27                 18   \n",
       "2               365            2020-02-28                 20   \n",
       "3               365            2020-02-28                 20   \n",
       "4               365            2020-02-28                 24   \n",
       "\n",
       "   number_of_reviews_ltm first_review last_review  review_scores_rating  \\\n",
       "0                      0   2013-10-21  2013-10-21                  94.0   \n",
       "1                      0   2014-04-18  2014-12-26                  91.0   \n",
       "2                      0   2011-06-25  2015-10-01                  98.0   \n",
       "3                      8   2011-12-19  2020-01-17                  89.0   \n",
       "4                      4   2011-07-30  2019-10-13                  83.0   \n",
       "\n",
       "   review_scores_accuracy  review_scores_cleanliness  review_scores_checkin  \\\n",
       "0                    10.0                       10.0                   10.0   \n",
       "1                     9.0                       10.0                   10.0   \n",
       "2                    10.0                       10.0                   10.0   \n",
       "3                     9.0                        8.0                    9.0   \n",
       "4                     8.0                        8.0                    9.0   \n",
       "\n",
       "   review_scores_communication  review_scores_location  review_scores_value  \\\n",
       "0                         10.0                     8.0                  8.0   \n",
       "1                         10.0                     9.0                  9.0   \n",
       "2                         10.0                     8.0                  9.0   \n",
       "3                         10.0                     9.0                  9.0   \n",
       "4                          9.0                     8.0                  8.0   \n",
       "\n",
       "  requires_license license  jurisdiction_names instant_bookable  \\\n",
       "0                f     NaN                 NaN                f   \n",
       "1                f     NaN                 NaN                f   \n",
       "2                f     NaN                 NaN                f   \n",
       "3                f     NaN                 NaN                t   \n",
       "4                f     NaN                 NaN                t   \n",
       "\n",
       "  is_business_travel_ready cancellation_policy require_guest_profile_picture  \\\n",
       "0                        f            flexible                             t   \n",
       "1                        f            moderate                             f   \n",
       "2                        f            flexible                             t   \n",
       "3                        f            flexible                             f   \n",
       "4                        f            moderate                             f   \n",
       "\n",
       "  require_guest_phone_verification  calculated_host_listings_count  \\\n",
       "0                                t                               2   \n",
       "1                                t                               1   \n",
       "2                                t                               2   \n",
       "3                                t                               8   \n",
       "4                                t                               8   \n",
       "\n",
       "   calculated_host_listings_count_entire_homes  \\\n",
       "0                                            0   \n",
       "1                                            0   \n",
       "2                                            0   \n",
       "3                                            0   \n",
       "4                                            0   \n",
       "\n",
       "   calculated_host_listings_count_private_rooms  \\\n",
       "0                                             2   \n",
       "1                                             1   \n",
       "2                                             2   \n",
       "3                                             8   \n",
       "4                                             8   \n",
       "\n",
       "   calculated_host_listings_count_shared_rooms  reviews_per_month  \n",
       "0                                            0               0.01  \n",
       "1                                            0               0.25  \n",
       "2                                            0               0.19  \n",
       "3                                            0               0.20  \n",
       "4                                            0               0.23  "
      ]
     },
     "execution_count": 6,
     "metadata": {},
     "output_type": "execute_result"
    }
   ],
   "source": [
    "airbnb_data.head()"
   ]
  },
  {
   "cell_type": "markdown",
   "metadata": {},
   "source": [
    "#### Data cleaning: Initial check\n",
    "Check the following in the cells below:\n",
    "1. Do we have any null values?\n",
    "2. Are any numerical columns being read wrongly?\n",
    "3. Remove columns that are not neccesary for price prediction"
   ]
  },
  {
   "cell_type": "code",
   "execution_count": 7,
   "metadata": {},
   "outputs": [],
   "source": [
    "null_values = airbnb_data.isnull().sum().sort_values(ascending=False)"
   ]
  },
  {
   "cell_type": "code",
   "execution_count": 8,
   "metadata": {},
   "outputs": [],
   "source": [
    "null_values_df = pd.DataFrame(data=null_values, columns=['no.'])"
   ]
  },
  {
   "cell_type": "code",
   "execution_count": 9,
   "metadata": {},
   "outputs": [
    {
     "data": {
      "text/html": [
       "<div>\n",
       "<style scoped>\n",
       "    .dataframe tbody tr th:only-of-type {\n",
       "        vertical-align: middle;\n",
       "    }\n",
       "\n",
       "    .dataframe tbody tr th {\n",
       "        vertical-align: top;\n",
       "    }\n",
       "\n",
       "    .dataframe thead th {\n",
       "        text-align: right;\n",
       "    }\n",
       "</style>\n",
       "<table border=\"1\" class=\"dataframe\">\n",
       "  <thead>\n",
       "    <tr style=\"text-align: right;\">\n",
       "      <th></th>\n",
       "      <th>no.</th>\n",
       "    </tr>\n",
       "  </thead>\n",
       "  <tbody>\n",
       "    <tr>\n",
       "      <th>jurisdiction_names</th>\n",
       "      <td>7429</td>\n",
       "    </tr>\n",
       "    <tr>\n",
       "      <th>xl_picture_url</th>\n",
       "      <td>7429</td>\n",
       "    </tr>\n",
       "    <tr>\n",
       "      <th>medium_url</th>\n",
       "      <td>7429</td>\n",
       "    </tr>\n",
       "    <tr>\n",
       "      <th>thumbnail_url</th>\n",
       "      <td>7429</td>\n",
       "    </tr>\n",
       "    <tr>\n",
       "      <th>license</th>\n",
       "      <td>7423</td>\n",
       "    </tr>\n",
       "  </tbody>\n",
       "</table>\n",
       "</div>"
      ],
      "text/plain": [
       "                     no.\n",
       "jurisdiction_names  7429\n",
       "xl_picture_url      7429\n",
       "medium_url          7429\n",
       "thumbnail_url       7429\n",
       "license             7423"
      ]
     },
     "execution_count": 9,
     "metadata": {},
     "output_type": "execute_result"
    }
   ],
   "source": [
    "null_values_df.head(5)"
   ]
  },
  {
   "cell_type": "markdown",
   "metadata": {},
   "source": [
    "#### Dropping initial columns\n",
    "Dropping all columns that contain the word `review` since the inital prediction of prices would not inlcude any reviews yet."
   ]
  },
  {
   "cell_type": "code",
   "execution_count": 10,
   "metadata": {},
   "outputs": [],
   "source": [
    "# removing all columns that consist of reviews\n",
    "\n",
    "airbnb_data = airbnb_data[airbnb_data.columns.drop(list(airbnb_data.filter(regex='review')))]"
   ]
  },
  {
   "cell_type": "markdown",
   "metadata": {},
   "source": [
    "In creation of this initial model, I will not be using NLP. NLP can be used subsequently for sentimental analysis for further predictions if needed. As such, I will be dropping text based features such as `listing_url`, etc."
   ]
  },
  {
   "cell_type": "code",
   "execution_count": 11,
   "metadata": {},
   "outputs": [],
   "source": [
    "# removing all columns that contains url\n",
    "\n",
    "airbnb_data = airbnb_data[airbnb_data.columns.drop(list(airbnb_data.filter(regex='url')))]"
   ]
  },
  {
   "cell_type": "code",
   "execution_count": 12,
   "metadata": {},
   "outputs": [
    {
     "data": {
      "text/plain": [
       "['id',\n",
       " 'scrape_id',\n",
       " 'last_scraped',\n",
       " 'name',\n",
       " 'summary',\n",
       " 'space',\n",
       " 'description',\n",
       " 'experiences_offered',\n",
       " 'neighborhood_overview',\n",
       " 'notes']"
      ]
     },
     "execution_count": 12,
     "metadata": {},
     "output_type": "execute_result"
    }
   ],
   "source": [
    "airbnb_cols = airbnb_data.columns.tolist()\n",
    "airbnb_cols[:10]"
   ]
  },
  {
   "cell_type": "code",
   "execution_count": 13,
   "metadata": {
    "scrolled": false
   },
   "outputs": [
    {
     "name": "stdout",
     "output_type": "stream",
     "text": [
      "0\n",
      "3959\n"
     ]
    }
   ],
   "source": [
    "# looking at individual columns: host_listings_count, host_total_listings_count, calculated_host_listings_count\n",
    "\n",
    "print(sum((airbnb_data.host_listings_count == airbnb_data.host_total_listings_count) == False))\n",
    "print(sum((airbnb_data.host_listings_count == airbnb_data.calculated_host_listings_count) == False))\n",
    "\n",
    "# all columns tally so I will drop host_total_listings_count"
   ]
  },
  {
   "cell_type": "code",
   "execution_count": 14,
   "metadata": {
    "scrolled": true
   },
   "outputs": [
    {
     "data": {
      "text/html": [
       "<div>\n",
       "<style scoped>\n",
       "    .dataframe tbody tr th:only-of-type {\n",
       "        vertical-align: middle;\n",
       "    }\n",
       "\n",
       "    .dataframe tbody tr th {\n",
       "        vertical-align: top;\n",
       "    }\n",
       "\n",
       "    .dataframe thead th {\n",
       "        text-align: right;\n",
       "    }\n",
       "</style>\n",
       "<table border=\"1\" class=\"dataframe\">\n",
       "  <thead>\n",
       "    <tr style=\"text-align: right;\">\n",
       "      <th></th>\n",
       "      <th>host_listings_count</th>\n",
       "      <th>calculated_host_listings_count</th>\n",
       "    </tr>\n",
       "  </thead>\n",
       "  <tbody>\n",
       "    <tr>\n",
       "      <th>23</th>\n",
       "      <td>2</td>\n",
       "      <td>1</td>\n",
       "    </tr>\n",
       "    <tr>\n",
       "      <th>30</th>\n",
       "      <td>2</td>\n",
       "      <td>1</td>\n",
       "    </tr>\n",
       "    <tr>\n",
       "      <th>32</th>\n",
       "      <td>6</td>\n",
       "      <td>4</td>\n",
       "    </tr>\n",
       "    <tr>\n",
       "      <th>38</th>\n",
       "      <td>126</td>\n",
       "      <td>128</td>\n",
       "    </tr>\n",
       "    <tr>\n",
       "      <th>49</th>\n",
       "      <td>126</td>\n",
       "      <td>128</td>\n",
       "    </tr>\n",
       "  </tbody>\n",
       "</table>\n",
       "</div>"
      ],
      "text/plain": [
       "    host_listings_count  calculated_host_listings_count\n",
       "23                    2                               1\n",
       "30                    2                               1\n",
       "32                    6                               4\n",
       "38                  126                             128\n",
       "49                  126                             128"
      ]
     },
     "execution_count": 14,
     "metadata": {},
     "output_type": "execute_result"
    }
   ],
   "source": [
    "# looking at the diff in columns between host_listings_count and calculated_host_listings_count\n",
    "\n",
    "airbnb_data_listing = airbnb_data.loc[((airbnb_data.host_listings_count == airbnb_data.calculated_host_listings_count) == False)]\n",
    "cols = ['host_listings_count','calculated_host_listings_count']\n",
    "airbnb_data_listing[cols].head()\n",
    "\n",
    "# seems like the columns differ by a bit, so I will be keeping the original\n",
    "# host_listing_count "
   ]
  },
  {
   "cell_type": "code",
   "execution_count": 15,
   "metadata": {
    "scrolled": true
   },
   "outputs": [
    {
     "name": "stdout",
     "output_type": "stream",
     "text": [
      "470\n",
      "276\n",
      "440\n",
      "544\n",
      "556\n",
      "564\n"
     ]
    }
   ],
   "source": [
    "# looking at minimum_nights, maximum_nights, minimum_minimum_nights, maximum_minimum_nights,\n",
    "# minimum_maximum_nights, maximum_maximum_nights, minimum_nights_avg_ntm, maximum_nights_avg_ntm\n",
    "\n",
    "print(sum((airbnb_data.minimum_nights == airbnb_data.minimum_minimum_nights) == False))\n",
    "print(sum((airbnb_data.minimum_nights == airbnb_data.maximum_minimum_nights) == False))\n",
    "print(sum((airbnb_data.minimum_nights == airbnb_data.minimum_nights_avg_ntm) == False))\n",
    "\n",
    "print(sum((airbnb_data.maximum_nights == airbnb_data.maximum_maximum_nights) == False))\n",
    "print(sum((airbnb_data.maximum_nights == airbnb_data.minimum_maximum_nights) == False))\n",
    "print(sum((airbnb_data.maximum_nights == airbnb_data.maximum_nights_avg_ntm) == False))\n",
    "\n",
    "# there is minor diff between the minimum amd maximum and the rest so i will just keep \n",
    "# the original and drop the rest"
   ]
  },
  {
   "cell_type": "code",
   "execution_count": 16,
   "metadata": {
    "scrolled": true
   },
   "outputs": [
    {
     "name": "stdout",
     "output_type": "stream",
     "text": [
      "2499\n"
     ]
    }
   ],
   "source": [
    "# looking at neighbourhood and neighbourhood_cleansed\n",
    "\n",
    "print(sum((airbnb_data.neighbourhood == airbnb_data.neighbourhood_cleansed) == False))"
   ]
  },
  {
   "cell_type": "code",
   "execution_count": 17,
   "metadata": {
    "scrolled": true
   },
   "outputs": [
    {
     "name": "stdout",
     "output_type": "stream",
     "text": [
      "0\n",
      "3\n"
     ]
    }
   ],
   "source": [
    "print(airbnb_data['neighbourhood_cleansed'].isnull().sum())\n",
    "print(airbnb_data['neighbourhood'].isnull().sum())\n",
    "\n",
    "# neighbourhood_cleansed is the clean neighbourhood and since neighbourhood \n",
    "# has null values, I will drop that and used neighbourhood_cleansed instead"
   ]
  },
  {
   "cell_type": "code",
   "execution_count": 18,
   "metadata": {},
   "outputs": [
    {
     "data": {
      "text/plain": [
       "0     6953\n",
       "1      142\n",
       "8      120\n",
       "2       46\n",
       "20      39\n",
       "11      29\n",
       "4       20\n",
       "9       18\n",
       "7       15\n",
       "3       15\n",
       "5       15\n",
       "6       14\n",
       "15       3\n",
       "Name: calculated_host_listings_count_shared_rooms, dtype: int64"
      ]
     },
     "execution_count": 18,
     "metadata": {},
     "output_type": "execute_result"
    }
   ],
   "source": [
    "airbnb_data['calculated_host_listings_count_shared_rooms'].value_counts()"
   ]
  },
  {
   "cell_type": "code",
   "execution_count": 19,
   "metadata": {},
   "outputs": [],
   "source": [
    "# remove columns that are descriptive/irrelevant\n",
    "\n",
    "drop_col = ['last_scraped',                        #drop cause not necessary just show dates\n",
    "           'summary',                              #drop cause description\n",
    "           'name',                                 #drop cause description\n",
    "           'transit',                              #drop cause transit is decriptive and can be derived from neighborhood\n",
    "           'space',                                #drop cause description\n",
    "           'description',                          #drop cause description\n",
    "           'experiences_offered',                  #drop cause all null\n",
    "           'neighborhood_overview',                #drop cause description\n",
    "           'notes',                                #drop cause description\n",
    "           'access',                               #drop cause description\n",
    "           'interaction',                          #drop cause descriptive and not needed in inital prediction\n",
    "           'house_rules',                          #drop cause description\n",
    "           'host_id',                              #drop cause not necessary\n",
    "           'host_name',                            #drop cause not necessary\n",
    "           'host_about',                           #drop cause not necessary\n",
    "           'host_total_listings_count',            #drop cause repeated\n",
    "           'city',                                 #drop cause this is limited to SG\n",
    "           'state',                                #drop cause inconsistent and should all be SG\n",
    "           'country_code',                         #drop cause all the same\n",
    "           'country',                              #drop cause all the same\n",
    "           'minimum_minimum_nights',               #drop cause repeated\n",
    "           'maximum_minimum_nights',\n",
    "           'minimum_maximum_nights',\n",
    "           'maximum_maximum_nights',\n",
    "           'minimum_nights_avg_ntm',\n",
    "           'maximum_nights_avg_ntm',\n",
    "           'calendar_last_scraped',                #drop because it just indicates last scraped\n",
    "           'jurisdiction_names',                   #drop not needed/all nulls\n",
    "           'is_business_travel_ready',             #drop because all are F\n",
    "           'requires_license',                     #drop becuase all are F\n",
    "           'calculated_host_listings_count',       #drop because repeated\n",
    "           'host_response_time',                   #drop because these are obtained after you have been a host\n",
    "           'host_response_rate',                   \n",
    "           'host_acceptance_rate',\n",
    "           'host_neighbourhood',\n",
    "           'host_location',\n",
    "           'zipcode',                             #drop zipcode, can interpret area \n",
    "           'market',                              #drop market as it just refers to SG\n",
    "           'neighbourhood']                       #drop cause repeated              \n",
    "\n",
    "airbnb_data = airbnb_data.drop(drop_col, axis=1)"
   ]
  },
  {
   "cell_type": "markdown",
   "metadata": {},
   "source": [
    "#### Data cleaning: Null Values\n",
    "Looking at remaining null and missing values."
   ]
  },
  {
   "cell_type": "code",
   "execution_count": 20,
   "metadata": {
    "scrolled": false
   },
   "outputs": [
    {
     "data": {
      "text/plain": [
       "license             7423\n",
       "square_feet         7387\n",
       "weekly_price        6948\n",
       "monthly_price       6867\n",
       "security_deposit    2201\n",
       "dtype: int64"
      ]
     },
     "execution_count": 20,
     "metadata": {},
     "output_type": "execute_result"
    }
   ],
   "source": [
    "# remaining null values\n",
    "\n",
    "airbnb_data.isnull().sum().sort_values(ascending=False).head()"
   ]
  },
  {
   "cell_type": "code",
   "execution_count": 21,
   "metadata": {},
   "outputs": [],
   "source": [
    "# drop columns that have >80% missing values as we will not be able to infer much\n",
    "airbnb_data = airbnb_data.drop(['license',\n",
    "                                'square_feet',\n",
    "                                'weekly_price',\n",
    "                                'monthly_price'], axis=1)"
   ]
  },
  {
   "cell_type": "code",
   "execution_count": 22,
   "metadata": {},
   "outputs": [],
   "source": [
    "# fill in 0 for security_deposit, cleaning fee as nan just indicates that there is zero security_deposit and cleaning_fee\n",
    "\n",
    "airbnb_data = airbnb_data.fillna({'security_deposit':0,'cleaning_fee':0})"
   ]
  },
  {
   "cell_type": "code",
   "execution_count": 23,
   "metadata": {},
   "outputs": [],
   "source": [
    "# fill in mean for beds, bedrooms, bathrooms indicate that there isnt one present for that house\n",
    "\n",
    "for col in ['bathrooms', 'bedrooms', 'beds']:\n",
    "    airbnb_data[col].fillna(airbnb_data[col].median(), inplace=True)"
   ]
  },
  {
   "cell_type": "code",
   "execution_count": 24,
   "metadata": {
    "scrolled": false
   },
   "outputs": [
    {
     "data": {
      "text/html": [
       "<div>\n",
       "<style scoped>\n",
       "    .dataframe tbody tr th:only-of-type {\n",
       "        vertical-align: middle;\n",
       "    }\n",
       "\n",
       "    .dataframe tbody tr th {\n",
       "        vertical-align: top;\n",
       "    }\n",
       "\n",
       "    .dataframe thead th {\n",
       "        text-align: right;\n",
       "    }\n",
       "</style>\n",
       "<table border=\"1\" class=\"dataframe\">\n",
       "  <thead>\n",
       "    <tr style=\"text-align: right;\">\n",
       "      <th></th>\n",
       "      <th>id</th>\n",
       "      <th>scrape_id</th>\n",
       "      <th>host_since</th>\n",
       "      <th>host_is_superhost</th>\n",
       "      <th>host_listings_count</th>\n",
       "      <th>host_verifications</th>\n",
       "      <th>host_has_profile_pic</th>\n",
       "      <th>host_identity_verified</th>\n",
       "      <th>street</th>\n",
       "      <th>neighbourhood_cleansed</th>\n",
       "      <th>neighbourhood_group_cleansed</th>\n",
       "      <th>smart_location</th>\n",
       "      <th>latitude</th>\n",
       "      <th>longitude</th>\n",
       "      <th>is_location_exact</th>\n",
       "      <th>property_type</th>\n",
       "      <th>room_type</th>\n",
       "      <th>accommodates</th>\n",
       "      <th>bathrooms</th>\n",
       "      <th>bedrooms</th>\n",
       "      <th>beds</th>\n",
       "      <th>bed_type</th>\n",
       "      <th>amenities</th>\n",
       "      <th>price</th>\n",
       "      <th>security_deposit</th>\n",
       "      <th>cleaning_fee</th>\n",
       "      <th>guests_included</th>\n",
       "      <th>extra_people</th>\n",
       "      <th>minimum_nights</th>\n",
       "      <th>maximum_nights</th>\n",
       "      <th>calendar_updated</th>\n",
       "      <th>has_availability</th>\n",
       "      <th>availability_30</th>\n",
       "      <th>availability_60</th>\n",
       "      <th>availability_90</th>\n",
       "      <th>availability_365</th>\n",
       "      <th>instant_bookable</th>\n",
       "      <th>cancellation_policy</th>\n",
       "      <th>require_guest_profile_picture</th>\n",
       "      <th>require_guest_phone_verification</th>\n",
       "      <th>calculated_host_listings_count_entire_homes</th>\n",
       "      <th>calculated_host_listings_count_private_rooms</th>\n",
       "      <th>calculated_host_listings_count_shared_rooms</th>\n",
       "    </tr>\n",
       "  </thead>\n",
       "  <tbody>\n",
       "  </tbody>\n",
       "</table>\n",
       "</div>"
      ],
      "text/plain": [
       "Empty DataFrame\n",
       "Columns: [id, scrape_id, host_since, host_is_superhost, host_listings_count, host_verifications, host_has_profile_pic, host_identity_verified, street, neighbourhood_cleansed, neighbourhood_group_cleansed, smart_location, latitude, longitude, is_location_exact, property_type, room_type, accommodates, bathrooms, bedrooms, beds, bed_type, amenities, price, security_deposit, cleaning_fee, guests_included, extra_people, minimum_nights, maximum_nights, calendar_updated, has_availability, availability_30, availability_60, availability_90, availability_365, instant_bookable, cancellation_policy, require_guest_profile_picture, require_guest_phone_verification, calculated_host_listings_count_entire_homes, calculated_host_listings_count_private_rooms, calculated_host_listings_count_shared_rooms]\n",
       "Index: []"
      ]
     },
     "execution_count": 24,
     "metadata": {},
     "output_type": "execute_result"
    }
   ],
   "source": [
    "airbnb_data[airbnb_data.isnull().any(axis=1)]\n",
    "\n",
    "# no more null values"
   ]
  },
  {
   "cell_type": "markdown",
   "metadata": {},
   "source": [
    "#### Data Cleaning: Categorical\n",
    "Taking a deeper look intot the categorical features and cleaning it up."
   ]
  },
  {
   "cell_type": "code",
   "execution_count": 25,
   "metadata": {
    "scrolled": true
   },
   "outputs": [
    {
     "data": {
      "image/png": "[encoded data removed]",
      "text/plain": [
       "<Figure size 1440x1440 with 30 Axes>"
      ]
     },
     "metadata": {},
     "output_type": "display_data"
    }
   ],
   "source": [
    "# Replacing columns with f/t with 0/1\n",
    "\n",
    "airbnb_data.replace({'f': 0, 't': 1}, inplace=True)\n",
    "\n",
    "# Plotting the distribution of numerical and boolean categories\n",
    "\n",
    "airbnb_data.hist(figsize=(20,20));"
   ]
  },
  {
   "cell_type": "markdown",
   "metadata": {},
   "source": [
    "From the above, it can be seen that several columns only contain one category and can be dropped:"
   ]
  },
  {
   "cell_type": "code",
   "execution_count": 26,
   "metadata": {},
   "outputs": [],
   "source": [
    "airbnb_data.drop(['has_availability',\n",
    "                  'host_has_profile_pic', \n",
    "                  'maximum_nights', \n",
    "                  'require_guest_phone_verification', \n",
    "                  'require_guest_profile_picture',\n",
    "                  'scrape_id'], axis=1, inplace=True)"
   ]
  },
  {
   "cell_type": "code",
   "execution_count": 27,
   "metadata": {
    "scrolled": true
   },
   "outputs": [
    {
     "data": {
      "text/plain": [
       "0       {TV,\"Cable TV\",Internet,Wifi,\"Air conditioning...\n",
       "1       {TV,\"Cable TV\",Internet,Wifi,\"Air conditioning...\n",
       "2       {TV,\"Cable TV\",Wifi,\"Air conditioning\",Kitchen...\n",
       "3       {TV,Wifi,\"Air conditioning\",Kitchen,\"Pets live...\n",
       "4       {TV,Internet,Wifi,\"Air conditioning\",Kitchen,\"...\n",
       "                              ...                        \n",
       "8042    {TV,\"Cable TV\",Wifi,\"Air conditioning\",Pool,Ki...\n",
       "8043    {TV,\"Cable TV\",Wifi,\"Air conditioning\",Pool,Ki...\n",
       "8044    {TV,\"Cable TV\",Wifi,\"Air conditioning\",Pool,Ki...\n",
       "8045    {TV,Wifi,\"Air conditioning\",Pool,Kitchen,Gym,E...\n",
       "8046    {TV,Wifi,\"Air conditioning\",Pool,Kitchen,Gym,E...\n",
       "Name: amenities, Length: 7429, dtype: object"
      ]
     },
     "execution_count": 27,
     "metadata": {},
     "output_type": "execute_result"
    }
   ],
   "source": [
    "airbnb_data.amenities"
   ]
  },
  {
   "cell_type": "code",
   "execution_count": 28,
   "metadata": {},
   "outputs": [],
   "source": [
    "airbnb_data.amenities = airbnb_data.amenities.str.replace('{','')\n",
    "airbnb_data.amenities = airbnb_data.amenities.str.replace('}', '')\n",
    "airbnb_data.amenities = airbnb_data.amenities.str.replace('\"', '')\n",
    "airbnb_data.amenities = airbnb_data.amenities.str.split(',')"
   ]
  },
  {
   "cell_type": "code",
   "execution_count": 29,
   "metadata": {},
   "outputs": [
    {
     "data": {
      "text/plain": [
       "0       [TV, Cable TV, Internet, Wifi, Air conditionin...\n",
       "1       [TV, Cable TV, Internet, Wifi, Air conditionin...\n",
       "2       [TV, Cable TV, Wifi, Air conditioning, Kitchen...\n",
       "3       [TV, Wifi, Air conditioning, Kitchen, Pets liv...\n",
       "4       [TV, Internet, Wifi, Air conditioning, Kitchen...\n",
       "                              ...                        \n",
       "8042    [TV, Cable TV, Wifi, Air conditioning, Pool, K...\n",
       "8043    [TV, Cable TV, Wifi, Air conditioning, Pool, K...\n",
       "8044    [TV, Cable TV, Wifi, Air conditioning, Pool, K...\n",
       "8045    [TV, Wifi, Air conditioning, Pool, Kitchen, Gy...\n",
       "8046    [TV, Wifi, Air conditioning, Pool, Kitchen, Gy...\n",
       "Name: amenities, Length: 7429, dtype: object"
      ]
     },
     "execution_count": 29,
     "metadata": {},
     "output_type": "execute_result"
    }
   ],
   "source": [
    "airbnb_data.amenities"
   ]
  },
  {
   "cell_type": "code",
   "execution_count": 30,
   "metadata": {},
   "outputs": [],
   "source": [
    "airbnb_data.amenities = airbnb_data.amenities.str.join(',')"
   ]
  },
  {
   "cell_type": "code",
   "execution_count": 31,
   "metadata": {},
   "outputs": [
    {
     "data": {
      "text/html": [
       "<div>\n",
       "<style scoped>\n",
       "    .dataframe tbody tr th:only-of-type {\n",
       "        vertical-align: middle;\n",
       "    }\n",
       "\n",
       "    .dataframe tbody tr th {\n",
       "        vertical-align: top;\n",
       "    }\n",
       "\n",
       "    .dataframe thead th {\n",
       "        text-align: right;\n",
       "    }\n",
       "</style>\n",
       "<table border=\"1\" class=\"dataframe\">\n",
       "  <thead>\n",
       "    <tr style=\"text-align: right;\">\n",
       "      <th></th>\n",
       "      <th>amenities</th>\n",
       "    </tr>\n",
       "  </thead>\n",
       "  <tbody>\n",
       "    <tr>\n",
       "      <th>0</th>\n",
       "      <td>TV,Cable TV,Internet,Wifi,Air conditioning,Pet...</td>\n",
       "    </tr>\n",
       "    <tr>\n",
       "      <th>1</th>\n",
       "      <td>TV,Cable TV,Internet,Wifi,Air conditioning,Poo...</td>\n",
       "    </tr>\n",
       "    <tr>\n",
       "      <th>2</th>\n",
       "      <td>TV,Cable TV,Wifi,Air conditioning,Kitchen,Pets...</td>\n",
       "    </tr>\n",
       "    <tr>\n",
       "      <th>3</th>\n",
       "      <td>TV,Wifi,Air conditioning,Kitchen,Pets live on ...</td>\n",
       "    </tr>\n",
       "    <tr>\n",
       "      <th>4</th>\n",
       "      <td>TV,Internet,Wifi,Air conditioning,Kitchen,Pets...</td>\n",
       "    </tr>\n",
       "    <tr>\n",
       "      <th>...</th>\n",
       "      <td>...</td>\n",
       "    </tr>\n",
       "    <tr>\n",
       "      <th>8042</th>\n",
       "      <td>TV,Cable TV,Wifi,Air conditioning,Pool,Kitchen...</td>\n",
       "    </tr>\n",
       "    <tr>\n",
       "      <th>8043</th>\n",
       "      <td>TV,Cable TV,Wifi,Air conditioning,Pool,Kitchen...</td>\n",
       "    </tr>\n",
       "    <tr>\n",
       "      <th>8044</th>\n",
       "      <td>TV,Cable TV,Wifi,Air conditioning,Pool,Kitchen...</td>\n",
       "    </tr>\n",
       "    <tr>\n",
       "      <th>8045</th>\n",
       "      <td>TV,Wifi,Air conditioning,Pool,Kitchen,Gym,Elev...</td>\n",
       "    </tr>\n",
       "    <tr>\n",
       "      <th>8046</th>\n",
       "      <td>TV,Wifi,Air conditioning,Pool,Kitchen,Gym,Elev...</td>\n",
       "    </tr>\n",
       "  </tbody>\n",
       "</table>\n",
       "<p>7429 rows × 1 columns</p>\n",
       "</div>"
      ],
      "text/plain": [
       "                                              amenities\n",
       "0     TV,Cable TV,Internet,Wifi,Air conditioning,Pet...\n",
       "1     TV,Cable TV,Internet,Wifi,Air conditioning,Poo...\n",
       "2     TV,Cable TV,Wifi,Air conditioning,Kitchen,Pets...\n",
       "3     TV,Wifi,Air conditioning,Kitchen,Pets live on ...\n",
       "4     TV,Internet,Wifi,Air conditioning,Kitchen,Pets...\n",
       "...                                                 ...\n",
       "8042  TV,Cable TV,Wifi,Air conditioning,Pool,Kitchen...\n",
       "8043  TV,Cable TV,Wifi,Air conditioning,Pool,Kitchen...\n",
       "8044  TV,Cable TV,Wifi,Air conditioning,Pool,Kitchen...\n",
       "8045  TV,Wifi,Air conditioning,Pool,Kitchen,Gym,Elev...\n",
       "8046  TV,Wifi,Air conditioning,Pool,Kitchen,Gym,Elev...\n",
       "\n",
       "[7429 rows x 1 columns]"
      ]
     },
     "execution_count": 31,
     "metadata": {},
     "output_type": "execute_result"
    }
   ],
   "source": [
    "airbnb_data[['amenities']]"
   ]
  },
  {
   "cell_type": "code",
   "execution_count": 32,
   "metadata": {
    "scrolled": false
   },
   "outputs": [
    {
     "data": {
      "text/plain": [
       "strict_14_with_grace_period    4786\n",
       "flexible                       1469\n",
       "moderate                       1165\n",
       "super_strict_60                   7\n",
       "super_strict_30                   2\n",
       "Name: cancellation_policy, dtype: int64"
      ]
     },
     "execution_count": 32,
     "metadata": {},
     "output_type": "execute_result"
    }
   ],
   "source": [
    "airbnb_data.cancellation_policy.value_counts()"
   ]
  },
  {
   "cell_type": "code",
   "execution_count": 33,
   "metadata": {
    "scrolled": true
   },
   "outputs": [
    {
     "data": {
      "text/plain": [
       "id                                                int64\n",
       "host_since                                       object\n",
       "host_is_superhost                                 int64\n",
       "host_listings_count                               int64\n",
       "host_verifications                               object\n",
       "host_identity_verified                            int64\n",
       "street                                           object\n",
       "neighbourhood_cleansed                           object\n",
       "neighbourhood_group_cleansed                     object\n",
       "smart_location                                   object\n",
       "latitude                                        float64\n",
       "longitude                                       float64\n",
       "is_location_exact                                 int64\n",
       "property_type                                    object\n",
       "room_type                                        object\n",
       "accommodates                                      int64\n",
       "bathrooms                                       float64\n",
       "bedrooms                                        float64\n",
       "beds                                            float64\n",
       "bed_type                                         object\n",
       "amenities                                        object\n",
       "price                                            object\n",
       "security_deposit                                 object\n",
       "cleaning_fee                                     object\n",
       "guests_included                                   int64\n",
       "extra_people                                     object\n",
       "minimum_nights                                    int64\n",
       "calendar_updated                                 object\n",
       "availability_30                                   int64\n",
       "availability_60                                   int64\n",
       "availability_90                                   int64\n",
       "availability_365                                  int64\n",
       "instant_bookable                                  int64\n",
       "cancellation_policy                              object\n",
       "calculated_host_listings_count_entire_homes       int64\n",
       "calculated_host_listings_count_private_rooms      int64\n",
       "calculated_host_listings_count_shared_rooms       int64\n",
       "dtype: object"
      ]
     },
     "execution_count": 33,
     "metadata": {},
     "output_type": "execute_result"
    }
   ],
   "source": [
    "airbnb_data.dtypes"
   ]
  },
  {
   "cell_type": "code",
   "execution_count": 34,
   "metadata": {},
   "outputs": [],
   "source": [
    "# convert price to integer, string because of currency\n",
    "airbnb_data.price = airbnb_data.price.str[1:-3]\n",
    "airbnb_data.price = airbnb_data.price.str.replace(\",\", \"\")\n",
    "airbnb_data.price = airbnb_data.price.astype('int64')"
   ]
  },
  {
   "cell_type": "markdown",
   "metadata": {},
   "source": [
    "## EDA\n",
    "---\n",
    "---\n",
    "### Distribution of target value - Price"
   ]
  },
  {
   "cell_type": "code",
   "execution_count": 35,
   "metadata": {},
   "outputs": [
    {
     "name": "stdout",
     "output_type": "stream",
     "text": [
      "Nightly advertised prices range from $0 to $10000.\n"
     ]
    }
   ],
   "source": [
    "print(f\"Nightly advertised prices range from ${min(airbnb_data.price)} to ${max(airbnb_data.price)}.\")"
   ]
  },
  {
   "cell_type": "code",
   "execution_count": 36,
   "metadata": {
    "scrolled": true
   },
   "outputs": [
    {
     "data": {
      "text/html": [
       "<div>\n",
       "<style scoped>\n",
       "    .dataframe tbody tr th:only-of-type {\n",
       "        vertical-align: middle;\n",
       "    }\n",
       "\n",
       "    .dataframe tbody tr th {\n",
       "        vertical-align: top;\n",
       "    }\n",
       "\n",
       "    .dataframe thead th {\n",
       "        text-align: right;\n",
       "    }\n",
       "</style>\n",
       "<table border=\"1\" class=\"dataframe\">\n",
       "  <thead>\n",
       "    <tr style=\"text-align: right;\">\n",
       "      <th></th>\n",
       "      <th>id</th>\n",
       "      <th>host_since</th>\n",
       "      <th>host_is_superhost</th>\n",
       "      <th>host_listings_count</th>\n",
       "      <th>host_verifications</th>\n",
       "      <th>host_identity_verified</th>\n",
       "      <th>street</th>\n",
       "      <th>neighbourhood_cleansed</th>\n",
       "      <th>neighbourhood_group_cleansed</th>\n",
       "      <th>smart_location</th>\n",
       "      <th>latitude</th>\n",
       "      <th>longitude</th>\n",
       "      <th>is_location_exact</th>\n",
       "      <th>property_type</th>\n",
       "      <th>room_type</th>\n",
       "      <th>accommodates</th>\n",
       "      <th>bathrooms</th>\n",
       "      <th>bedrooms</th>\n",
       "      <th>beds</th>\n",
       "      <th>bed_type</th>\n",
       "      <th>amenities</th>\n",
       "      <th>price</th>\n",
       "      <th>security_deposit</th>\n",
       "      <th>cleaning_fee</th>\n",
       "      <th>guests_included</th>\n",
       "      <th>extra_people</th>\n",
       "      <th>minimum_nights</th>\n",
       "      <th>calendar_updated</th>\n",
       "      <th>availability_30</th>\n",
       "      <th>availability_60</th>\n",
       "      <th>availability_90</th>\n",
       "      <th>availability_365</th>\n",
       "      <th>instant_bookable</th>\n",
       "      <th>cancellation_policy</th>\n",
       "      <th>calculated_host_listings_count_entire_homes</th>\n",
       "      <th>calculated_host_listings_count_private_rooms</th>\n",
       "      <th>calculated_host_listings_count_shared_rooms</th>\n",
       "    </tr>\n",
       "  </thead>\n",
       "  <tbody>\n",
       "    <tr>\n",
       "      <th>2825</th>\n",
       "      <td>21408571</td>\n",
       "      <td>2017-02-03</td>\n",
       "      <td>0</td>\n",
       "      <td>5</td>\n",
       "      <td>['email', 'phone', 'facebook', 'google', 'revi...</td>\n",
       "      <td>1</td>\n",
       "      <td>Singapore, Singapore</td>\n",
       "      <td>Rochor</td>\n",
       "      <td>Central Region</td>\n",
       "      <td>Singapore</td>\n",
       "      <td>1.30954</td>\n",
       "      <td>103.85271</td>\n",
       "      <td>1</td>\n",
       "      <td>Condominium</td>\n",
       "      <td>Entire home/apt</td>\n",
       "      <td>2</td>\n",
       "      <td>1.0</td>\n",
       "      <td>1.0</td>\n",
       "      <td>1.0</td>\n",
       "      <td>Real Bed</td>\n",
       "      <td>TV,Cable TV,Internet,Wifi,Air conditioning,Poo...</td>\n",
       "      <td>0</td>\n",
       "      <td>$0.00</td>\n",
       "      <td>$15.00</td>\n",
       "      <td>1</td>\n",
       "      <td>$10.00</td>\n",
       "      <td>1</td>\n",
       "      <td>2 weeks ago</td>\n",
       "      <td>20</td>\n",
       "      <td>39</td>\n",
       "      <td>69</td>\n",
       "      <td>340</td>\n",
       "      <td>1</td>\n",
       "      <td>moderate</td>\n",
       "      <td>2</td>\n",
       "      <td>2</td>\n",
       "      <td>0</td>\n",
       "    </tr>\n",
       "  </tbody>\n",
       "</table>\n",
       "</div>"
      ],
      "text/plain": [
       "            id  host_since  host_is_superhost  host_listings_count  \\\n",
       "2825  21408571  2017-02-03                  0                    5   \n",
       "\n",
       "                                     host_verifications  \\\n",
       "2825  ['email', 'phone', 'facebook', 'google', 'revi...   \n",
       "\n",
       "      host_identity_verified                street neighbourhood_cleansed  \\\n",
       "2825                       1  Singapore, Singapore                 Rochor   \n",
       "\n",
       "     neighbourhood_group_cleansed smart_location  latitude  longitude  \\\n",
       "2825               Central Region      Singapore   1.30954  103.85271   \n",
       "\n",
       "      is_location_exact property_type        room_type  accommodates  \\\n",
       "2825                  1   Condominium  Entire home/apt             2   \n",
       "\n",
       "      bathrooms  bedrooms  beds  bed_type  \\\n",
       "2825        1.0       1.0   1.0  Real Bed   \n",
       "\n",
       "                                              amenities  price  \\\n",
       "2825  TV,Cable TV,Internet,Wifi,Air conditioning,Poo...      0   \n",
       "\n",
       "     security_deposit cleaning_fee  guests_included extra_people  \\\n",
       "2825            $0.00       $15.00                1       $10.00   \n",
       "\n",
       "      minimum_nights calendar_updated  availability_30  availability_60  \\\n",
       "2825               1      2 weeks ago               20               39   \n",
       "\n",
       "      availability_90  availability_365  instant_bookable cancellation_policy  \\\n",
       "2825               69               340                 1            moderate   \n",
       "\n",
       "      calculated_host_listings_count_entire_homes  \\\n",
       "2825                                            2   \n",
       "\n",
       "      calculated_host_listings_count_private_rooms  \\\n",
       "2825                                             2   \n",
       "\n",
       "      calculated_host_listings_count_shared_rooms  \n",
       "2825                                            0  "
      ]
     },
     "execution_count": 36,
     "metadata": {},
     "output_type": "execute_result"
    }
   ],
   "source": [
    "# price should not be zero\n",
    "\n",
    "airbnb_data.loc[airbnb_data['price']==0,:]\n",
    "\n",
    "# drop the one that contains zero"
   ]
  },
  {
   "cell_type": "code",
   "execution_count": 37,
   "metadata": {},
   "outputs": [],
   "source": [
    "airbnb_data = airbnb_data.loc[airbnb_data['price']>0,:]"
   ]
  },
  {
   "cell_type": "code",
   "execution_count": 38,
   "metadata": {
    "scrolled": false
   },
   "outputs": [
    {
     "data": {
      "image/png": "[encoded data removed]",
      "text/plain": [
       "<Figure size 864x576 with 1 Axes>"
      ]
     },
     "metadata": {},
     "output_type": "display_data"
    }
   ],
   "source": [
    "# View the distribution of the target-y, Price'\n",
    "\n",
    "plt.figure(figsize = (12,8));\n",
    "sns.distplot(airbnb_data.price, bins = 30, kde = True);\n",
    "plt.xlabel('Price, SGD')\n",
    "plt.ylabel('Number of Houses')\n",
    "plt.title('Distribution of Airbnb Housing Prices');"
   ]
  },
  {
   "cell_type": "code",
   "execution_count": 39,
   "metadata": {},
   "outputs": [
    {
     "name": "stdout",
     "output_type": "stream",
     "text": [
      "Skew is: 18.63032870062051\n",
      "After convert to log scale, skew is: 0.35905855777584017\n"
     ]
    }
   ],
   "source": [
    "# Distribution plot below shows that the price is skewed to the right \n",
    "# that is longer tail at right, where mean > mode\n",
    "\n",
    "print(f\"Skew is: {airbnb_data.price.skew()}\")\n",
    "\n",
    "#Try to convert to log scale and check the skewness\n",
    "\n",
    "print(f\"After convert to log scale, skew is: {np.log(airbnb_data.price).skew()}\")\n",
    "\n",
    "# The skewness is much closer to 0, which is closer to normal distribution"
   ]
  },
  {
   "cell_type": "code",
   "execution_count": 40,
   "metadata": {},
   "outputs": [
    {
     "data": {
      "text/plain": [
       "(6.0, 18.0)"
      ]
     },
     "execution_count": 40,
     "metadata": {},
     "output_type": "execute_result"
    },
    {
     "data": {
      "image/png": "[encoded data removed]",
      "text/plain": [
       "<Figure size 864x576 with 1 Axes>"
      ]
     },
     "metadata": {},
     "output_type": "display_data"
    }
   ],
   "source": [
    "# View the distribution of the price after converting to log scale\n",
    "\n",
    "plt.figure(figsize = (12,8));\n",
    "\n",
    "sns.distplot(np.log(airbnb_data.price), bins = 30, kde = True);\n",
    "\n",
    "plt.xlabel('log10(Price), SGD')\n",
    "plt.ylabel('Number of Houses')\n",
    "plt.title('Distribution of Airbnb Housing Prices');\n",
    "\n",
    "plt.xlim(6,18)"
   ]
  },
  {
   "cell_type": "markdown",
   "metadata": {},
   "source": [
    "### Numerical Features"
   ]
  },
  {
   "cell_type": "code",
   "execution_count": 42,
   "metadata": {
    "scrolled": false
   },
   "outputs": [
    {
     "name": "stdout",
     "output_type": "stream",
     "text": [
      " Total number of numeric features: 22\n"
     ]
    },
    {
     "data": {
      "text/plain": [
       "id                                                int64\n",
       "host_is_superhost                                 int64\n",
       "host_listings_count                               int64\n",
       "host_identity_verified                            int64\n",
       "latitude                                        float64\n",
       "longitude                                       float64\n",
       "is_location_exact                                 int64\n",
       "accommodates                                      int64\n",
       "bathrooms                                       float64\n",
       "bedrooms                                        float64\n",
       "beds                                            float64\n",
       "price                                             int64\n",
       "guests_included                                   int64\n",
       "minimum_nights                                    int64\n",
       "availability_30                                   int64\n",
       "availability_60                                   int64\n",
       "availability_90                                   int64\n",
       "availability_365                                  int64\n",
       "instant_bookable                                  int64\n",
       "calculated_host_listings_count_entire_homes       int64\n",
       "calculated_host_listings_count_private_rooms      int64\n",
       "calculated_host_listings_count_shared_rooms       int64\n",
       "dtype: object"
      ]
     },
     "execution_count": 42,
     "metadata": {},
     "output_type": "execute_result"
    }
   ],
   "source": [
    "# List out all the numerical features\n",
    "\n",
    "num_features = airbnb_data.select_dtypes(include=[np.number])\n",
    "\n",
    "# Return a subset of the DataFrame’s columns based on the column dtypes = numeric number\n",
    "\n",
    "print(f' Total number of numeric features: {num_features.shape[1]}')\n",
    "num_features.dtypes"
   ]
  },
  {
   "cell_type": "markdown",
   "metadata": {},
   "source": [
    "#### Numerical features Vs Price\n",
    "---\n",
    "There is a total of 22 numerical features. Taking a quick view of how they correlate with price."
   ]
  },
  {
   "cell_type": "code",
   "execution_count": 43,
   "metadata": {},
   "outputs": [
    {
     "data": {
      "text/html": [
       "<div>\n",
       "<style scoped>\n",
       "    .dataframe tbody tr th:only-of-type {\n",
       "        vertical-align: middle;\n",
       "    }\n",
       "\n",
       "    .dataframe tbody tr th {\n",
       "        vertical-align: top;\n",
       "    }\n",
       "\n",
       "    .dataframe thead th {\n",
       "        text-align: right;\n",
       "    }\n",
       "</style>\n",
       "<table border=\"1\" class=\"dataframe\">\n",
       "  <thead>\n",
       "    <tr style=\"text-align: right;\">\n",
       "      <th></th>\n",
       "      <th>price</th>\n",
       "      <th>accommodates</th>\n",
       "      <th>bedrooms</th>\n",
       "      <th>guests_included</th>\n",
       "      <th>beds</th>\n",
       "      <th>bathrooms</th>\n",
       "      <th>calculated_host_listings_count_entire_homes</th>\n",
       "      <th>host_listings_count</th>\n",
       "      <th>id</th>\n",
       "      <th>availability_30</th>\n",
       "      <th>availability_60</th>\n",
       "      <th>availability_90</th>\n",
       "      <th>availability_365</th>\n",
       "      <th>is_location_exact</th>\n",
       "      <th>host_is_superhost</th>\n",
       "      <th>minimum_nights</th>\n",
       "      <th>longitude</th>\n",
       "      <th>instant_bookable</th>\n",
       "      <th>host_identity_verified</th>\n",
       "      <th>calculated_host_listings_count_shared_rooms</th>\n",
       "      <th>latitude</th>\n",
       "      <th>calculated_host_listings_count_private_rooms</th>\n",
       "    </tr>\n",
       "  </thead>\n",
       "  <tbody>\n",
       "    <tr>\n",
       "      <th>price</th>\n",
       "      <td>1.0</td>\n",
       "      <td>0.231524</td>\n",
       "      <td>0.225072</td>\n",
       "      <td>0.157283</td>\n",
       "      <td>0.11469</td>\n",
       "      <td>0.101275</td>\n",
       "      <td>0.053103</td>\n",
       "      <td>0.04869</td>\n",
       "      <td>0.041418</td>\n",
       "      <td>0.038494</td>\n",
       "      <td>0.032977</td>\n",
       "      <td>0.032653</td>\n",
       "      <td>0.029013</td>\n",
       "      <td>0.003139</td>\n",
       "      <td>0.000648</td>\n",
       "      <td>-0.00948</td>\n",
       "      <td>-0.038175</td>\n",
       "      <td>-0.042693</td>\n",
       "      <td>-0.044935</td>\n",
       "      <td>-0.051917</td>\n",
       "      <td>-0.090591</td>\n",
       "      <td>-0.091948</td>\n",
       "    </tr>\n",
       "  </tbody>\n",
       "</table>\n",
       "</div>"
      ],
      "text/plain": [
       "       price  accommodates  bedrooms  guests_included     beds  bathrooms  \\\n",
       "price    1.0      0.231524  0.225072         0.157283  0.11469   0.101275   \n",
       "\n",
       "       calculated_host_listings_count_entire_homes  host_listings_count  \\\n",
       "price                                     0.053103              0.04869   \n",
       "\n",
       "             id  availability_30  availability_60  availability_90  \\\n",
       "price  0.041418         0.038494         0.032977         0.032653   \n",
       "\n",
       "       availability_365  is_location_exact  host_is_superhost  minimum_nights  \\\n",
       "price          0.029013           0.003139           0.000648        -0.00948   \n",
       "\n",
       "       longitude  instant_bookable  host_identity_verified  \\\n",
       "price  -0.038175         -0.042693               -0.044935   \n",
       "\n",
       "       calculated_host_listings_count_shared_rooms  latitude  \\\n",
       "price                                    -0.051917 -0.090591   \n",
       "\n",
       "       calculated_host_listings_count_private_rooms  \n",
       "price                                     -0.091948  "
      ]
     },
     "execution_count": 43,
     "metadata": {},
     "output_type": "execute_result"
    }
   ],
   "source": [
    "# Numeric features correlation \n",
    "\n",
    "num_features_corr = airbnb_data.corr()[['price']]\n",
    "\n",
    "#List of correction of sale price versus the 22 numerical features\n",
    "\n",
    "num_features_corr.sort_values(by = ['price'], ascending = False).T"
   ]
  },
  {
   "cell_type": "code",
   "execution_count": 51,
   "metadata": {},
   "outputs": [
    {
     "name": "stdout",
     "output_type": "stream",
     "text": [
      "Total of 2 strong correlation features\n"
     ]
    },
    {
     "data": {
      "text/html": [
       "<div>\n",
       "<style scoped>\n",
       "    .dataframe tbody tr th:only-of-type {\n",
       "        vertical-align: middle;\n",
       "    }\n",
       "\n",
       "    .dataframe tbody tr th {\n",
       "        vertical-align: top;\n",
       "    }\n",
       "\n",
       "    .dataframe thead th {\n",
       "        text-align: right;\n",
       "    }\n",
       "</style>\n",
       "<table border=\"1\" class=\"dataframe\">\n",
       "  <thead>\n",
       "    <tr style=\"text-align: right;\">\n",
       "      <th></th>\n",
       "      <th>price</th>\n",
       "      <th>accommodates</th>\n",
       "      <th>bedrooms</th>\n",
       "    </tr>\n",
       "  </thead>\n",
       "  <tbody>\n",
       "    <tr>\n",
       "      <th>price</th>\n",
       "      <td>1.0</td>\n",
       "      <td>0.231524</td>\n",
       "      <td>0.225072</td>\n",
       "    </tr>\n",
       "  </tbody>\n",
       "</table>\n",
       "</div>"
      ],
      "text/plain": [
       "       price  accommodates  bedrooms\n",
       "price    1.0      0.231524  0.225072"
      ]
     },
     "execution_count": 51,
     "metadata": {},
     "output_type": "execute_result"
    }
   ],
   "source": [
    "# To list out features with stong postive and strong negative correlation with price:\n",
    "strong_pos = num_features_corr['price'] > 0.2   \n",
    "strong_neg = num_features_corr['price'] < -0.1 \n",
    "\n",
    "strong_nfeatures = num_features_corr[strong_pos | strong_neg].index   # list of features with strong correlation to price\n",
    "print(f'Total of {num_features_corr[strong_pos | strong_neg].shape[0] -1} strong correlation features')\n",
    "\n",
    "num_features_corr[strong_pos | strong_neg].sort_values(by = 'price', ascending = False).T"
   ]
  },
  {
   "cell_type": "code",
   "execution_count": 53,
   "metadata": {},
   "outputs": [
    {
     "data": {
      "text/plain": [
       "host_listings_count                          calculated_host_listings_count_entire_homes    0.894452\n",
       "accommodates                                 bedrooms                                       0.670952\n",
       "                                             beds                                           0.641532\n",
       "bedrooms                                     accommodates                                   0.670952\n",
       "beds                                         accommodates                                   0.641532\n",
       "availability_30                              availability_60                                0.955427\n",
       "                                             availability_90                                0.910903\n",
       "                                             availability_365                               0.634200\n",
       "availability_60                              availability_30                                0.955427\n",
       "                                             availability_90                                0.981207\n",
       "                                             availability_365                               0.690786\n",
       "availability_90                              availability_30                                0.910903\n",
       "                                             availability_60                                0.981207\n",
       "                                             availability_365                               0.734812\n",
       "availability_365                             availability_30                                0.634200\n",
       "                                             availability_60                                0.690786\n",
       "                                             availability_90                                0.734812\n",
       "calculated_host_listings_count_entire_homes  host_listings_count                            0.894452\n",
       "dtype: float64"
      ]
     },
     "execution_count": 53,
     "metadata": {},
     "output_type": "execute_result"
    }
   ],
   "source": [
    "# Unstack the correlation matrix (extract those with strong positive correlation among the numeric features)\n",
    "\n",
    "x = airbnb_data.corr().unstack()\n",
    "x[ ((x>0.6) & (x<1.0)) ]"
   ]
  },
  {
   "cell_type": "markdown",
   "metadata": {},
   "source": [
    "Seems like there isn't a very strong correlation between the numerical features and the price.\n",
    "\n",
    "Bedrooms and accomodates have the greatest correlation to price but even so the value of correlation is low at 0.2.\n",
    "\n",
    "From above we can also see that bedrooms and accomodates have a positive correlation of 0.67, and perhaps indication of multicollinearity."
   ]
  },
  {
   "cell_type": "markdown",
   "metadata": {},
   "source": [
    "#### Categorical Features"
   ]
  },
  {
   "cell_type": "code",
   "execution_count": 41,
   "metadata": {
    "scrolled": false
   },
   "outputs": [
    {
     "name": "stdout",
     "output_type": "stream",
     "text": [
      " Total number of categorical features: 15\n"
     ]
    },
    {
     "data": {
      "text/plain": [
       "host_since                      object\n",
       "host_verifications              object\n",
       "street                          object\n",
       "neighbourhood_cleansed          object\n",
       "neighbourhood_group_cleansed    object\n",
       "smart_location                  object\n",
       "property_type                   object\n",
       "room_type                       object\n",
       "bed_type                        object\n",
       "amenities                       object\n",
       "security_deposit                object\n",
       "cleaning_fee                    object\n",
       "extra_people                    object\n",
       "calendar_updated                object\n",
       "cancellation_policy             object\n",
       "dtype: object"
      ]
     },
     "execution_count": 41,
     "metadata": {},
     "output_type": "execute_result"
    }
   ],
   "source": [
    "# List out all the categorical features\n",
    "\n",
    "cat_features = airbnb_data.select_dtypes(include=[object])\n",
    "\n",
    "# Return a subset of the DataFrame’s columns based on the column dtypes = object\n",
    "\n",
    "print(f' Total number of categorical features: {cat_features.shape[1]}')\n",
    "cat_features.dtypes"
   ]
  },
  {
   "cell_type": "code",
   "execution_count": 39,
   "metadata": {},
   "outputs": [
    {
     "data": {
      "image/png": "[encoded data removed]",
      "text/plain": [
       "<Figure size 1440x288 with 1 Axes>"
      ]
     },
     "metadata": {},
     "output_type": "display_data"
    }
   ],
   "source": [
    "# Distribution of prices from $1 to $10000\n",
    "plt.figure(figsize=(20,4))\n",
    "airbnb_data.price.hist(bins=100, range=(1,1000))\n",
    "plt.margins(x=0)\n",
    "# plt.axvline(1, color='orange', linestyle='--')\n",
    "plt.title(\"Airbnb advertised nightly prices in Singapore up to $10000\", fontsize=16)\n",
    "plt.xlabel(\"Price ($)\")\n",
    "plt.ylabel(\"Number of listings\")\n",
    "plt.show()"
   ]
  },
  {
   "cell_type": "code",
   "execution_count": 40,
   "metadata": {
    "scrolled": true
   },
   "outputs": [
    {
     "data": {
      "image/png": "[encoded data removed]",
      "text/plain": [
       "<Figure size 720x360 with 1 Axes>"
      ]
     },
     "metadata": {
      "needs_background": "light"
     },
     "output_type": "display_data"
    }
   ],
   "source": [
    "plt.figure(figsize=(12,8))\n",
    "airbnb_data.groupby('accommodates').price.median().plot(kind='bar')\n",
    "plt.title('Median price of Airbnbs accommodating different number of guests', fontsize=14)\n",
    "plt.xlabel('Number of guests accommodated', fontsize=13)\n",
    "plt.ylabel('Median price ($)', fontsize=13)\n",
    "plt.xticks(rotation=0)\n",
    "plt.xlim(left=0.5)\n",
    "plt.show()"
   ]
  },
  {
   "cell_type": "code",
   "execution_count": 41,
   "metadata": {},
   "outputs": [
    {
     "data": {
      "image/png": "[encoded data removed]",
      "text/plain": [
       "<Figure size 720x360 with 1 Axes>"
      ]
     },
     "metadata": {
      "needs_background": "light"
     },
     "output_type": "display_data"
    }
   ],
   "source": [
    "plt.figure(figsize=(12,8))\n",
    "airbnb_data.groupby('beds').price.median().plot(kind='bar')\n",
    "plt.title('Median price of Airbnbs for number of beds', fontsize=14)\n",
    "plt.xlabel('Number of guests accommodated', fontsize=13)\n",
    "plt.ylabel('Median price ($)', fontsize=13)\n",
    "plt.xticks(rotation=0)\n",
    "plt.xlim(left=0.5)\n",
    "plt.show()"
   ]
  },
  {
   "cell_type": "code",
   "execution_count": 42,
   "metadata": {},
   "outputs": [],
   "source": [
    "def category_count_plot(col, figsize=(20,8)):\n",
    " \n",
    "    plt.figure(figsize=figsize)\n",
    "    airbnb_data[col].value_counts().plot(kind='bar')\n",
    "    plt.title(col)\n",
    "    plt.xticks(rotation=45, fontsize = 12)\n",
    "    plt.show();"
   ]
  },
  {
   "cell_type": "code",
   "execution_count": 43,
   "metadata": {
    "scrolled": false
   },
   "outputs": [
    {
     "data": {
      "image/png": "[encoded data removed]",
      "text/plain": [
       "<Figure size 1440x360 with 1 Axes>"
      ]
     },
     "metadata": {
      "needs_background": "light"
     },
     "output_type": "display_data"
    },
    {
     "name": "stdout",
     "output_type": "stream",
     "text": [
      "Apartment                 0.407053\n",
      "Condominium               0.269888\n",
      "Serviced apartment        0.097994\n",
      "House                     0.070938\n",
      "Hostel                    0.037825\n",
      "Boutique hotel            0.024229\n",
      "Hotel                     0.019653\n",
      "Loft                      0.016826\n",
      "Townhouse                 0.016288\n",
      "Bungalow                  0.008480\n",
      "Bed and breakfast         0.008346\n",
      "Other                     0.006461\n",
      "Aparthotel                0.004442\n",
      "Guesthouse                0.003365\n",
      "Guest suite               0.003231\n",
      "Villa                     0.001615\n",
      "Boat                      0.000808\n",
      "Tent                      0.000808\n",
      "Campsite                  0.000404\n",
      "Chalet                    0.000404\n",
      "Tiny house                0.000269\n",
      "Earth house               0.000135\n",
      "Farm stay                 0.000135\n",
      "Bus                       0.000135\n",
      "Cabin                     0.000135\n",
      "Heritage hotel (India)    0.000135\n",
      "Name: property_type, dtype: float64\n"
     ]
    },
    {
     "data": {
      "image/png": "[encoded data removed]",
      "text/plain": [
       "<Figure size 1440x360 with 1 Axes>"
      ]
     },
     "metadata": {
      "needs_background": "light"
     },
     "output_type": "display_data"
    },
    {
     "name": "stdout",
     "output_type": "stream",
     "text": [
      "Entire home/apt    0.469242\n",
      "Private room       0.435725\n",
      "Hotel room         0.064881\n",
      "Shared room        0.030152\n",
      "Name: room_type, dtype: float64\n"
     ]
    }
   ],
   "source": [
    "for col in ['property_type', 'room_type']:\n",
    "    category_count_plot(col, figsize=(20,5))\n",
    "    print(airbnb_data[col].value_counts(normalize=True));"
   ]
  },
  {
   "cell_type": "code",
   "execution_count": 44,
   "metadata": {
    "scrolled": true
   },
   "outputs": [
    {
     "data": {
      "text/plain": [
       "0       TV,Cable TV,Internet,Wifi,Air conditioning,Pet...\n",
       "1       TV,Cable TV,Internet,Wifi,Air conditioning,Poo...\n",
       "2       TV,Cable TV,Wifi,Air conditioning,Kitchen,Pets...\n",
       "3       TV,Wifi,Air conditioning,Kitchen,Pets live on ...\n",
       "4       TV,Internet,Wifi,Air conditioning,Kitchen,Pets...\n",
       "                              ...                        \n",
       "8042    TV,Cable TV,Wifi,Air conditioning,Pool,Kitchen...\n",
       "8043    TV,Cable TV,Wifi,Air conditioning,Pool,Kitchen...\n",
       "8044    TV,Cable TV,Wifi,Air conditioning,Pool,Kitchen...\n",
       "8045    TV,Wifi,Air conditioning,Pool,Kitchen,Gym,Elev...\n",
       "8046    TV,Wifi,Air conditioning,Pool,Kitchen,Gym,Elev...\n",
       "Name: amenities, Length: 7429, dtype: object"
      ]
     },
     "execution_count": 44,
     "metadata": {},
     "output_type": "execute_result"
    }
   ],
   "source": [
    "# looking at amenities\n",
    "\n",
    "airbnb_data.amenities"
   ]
  },
  {
   "cell_type": "code",
   "execution_count": 45,
   "metadata": {},
   "outputs": [],
   "source": [
    "# getting a list of all amenities present\n",
    "\n",
    "amenities_all = list(airbnb_data.amenities)\n",
    "amenities_all = \" \".join(amenities_all)\n",
    "amenities_all = amenities_all.replace('{', '')\n",
    "amenities_all = amenities_all.replace('}', ',')\n",
    "amenities_all = amenities_all.replace('\"', '')"
   ]
  },
  {
   "cell_type": "code",
   "execution_count": 46,
   "metadata": {},
   "outputs": [],
   "source": [
    "# list comprehension to get amenities into one list\n",
    "\n",
    "amenities_list = [x.strip() for x in amenities_all.split(',')]"
   ]
  },
  {
   "cell_type": "code",
   "execution_count": 47,
   "metadata": {
    "scrolled": true
   },
   "outputs": [],
   "source": [
    "# taking a look at the top 20 amenities\n",
    "\n",
    "amenities_list = pd.Series(amenities_list)\n",
    "amenities_count_top20 = amenities_list.value_counts().head(20)"
   ]
  },
  {
   "cell_type": "code",
   "execution_count": 48,
   "metadata": {
    "scrolled": true
   },
   "outputs": [
    {
     "data": {
      "image/png": "[encoded data removed]",
      "text/plain": [
       "<Figure size 432x288 with 1 Axes>"
      ]
     },
     "metadata": {
      "needs_background": "light"
     },
     "output_type": "display_data"
    }
   ],
   "source": [
    "plt.figure(figsize=(12,8))\n",
    "amenities_count_top20.plot(kind='bar')\n",
    "ax = plt.gca()\n",
    "ax.set_xticklabels(ax.get_xticklabels(), rotation=45, ha='right', fontsize=12)\n",
    "plt.show();"
   ]
  },
  {
   "cell_type": "markdown",
   "metadata": {},
   "source": [
    "## EDA & Modeling"
   ]
  },
  {
   "cell_type": "code",
   "execution_count": null,
   "metadata": {},
   "outputs": [],
   "source": []
  }
 ],
 "metadata": {
  "anaconda-cloud": {},
  "kernelspec": {
   "display_name": "Python 3",
   "language": "python",
   "name": "python3"
  },
  "language_info": {
   "codemirror_mode": {
    "name": "ipython",
    "version": 3
   },
   "file_extension": ".py",
   "mimetype": "text/x-python",
   "name": "python",
   "nbconvert_exporter": "python",
   "pygments_lexer": "ipython3",
   "version": "3.7.6"
  }
 },
 "nbformat": 4,
 "nbformat_minor": 2
}
