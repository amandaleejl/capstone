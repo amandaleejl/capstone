{
 "cells": [
  {
   "cell_type": "markdown",
   "metadata": {},
   "source": [
    "# Capstone: Airbnb Price Prediction (Singapore)"
   ]
  },
  {
   "cell_type": "markdown",
   "metadata": {},
   "source": [
    "## Problem Statement"
   ]
  },
  {
   "cell_type": "markdown",
   "metadata": {},
   "source": [
    "I will build a regression model to predict the listing price of houses to be listed on the Airbnb websits. Model performance will be guided by RMSE, and the model should at least imporve upon baseline by 10%. \n",
    "Baseline is defined as the average daily costs per night for a housing listing in Singapore."
   ]
  },
  {
   "cell_type": "markdown",
   "metadata": {},
   "source": [
    "## Executive Summary\n",
    "\n",
    "This Jupyter notebook walks through the price prediction for potential Airbnb hosts. \n",
    "\n",
    "Airbnb provides easy access for users looking for a apartment rentals in Singapore, with information provided by the hosts on the platform. However, it might not be as convenient for potential listers. One challenge that Airbnb hosts might face is in determining an optimal rent price to rent out their spaces.\n",
    " \n",
    "\n",
    "### Contents:\n",
    "- [Data Import & Cleaning](#Data-Import-&-Cleaning)\n",
    "- [Preprocessing](#Preprocessing)\n",
    "- [EDA & Modeling](#EDA-&-Modeling)\n",
    "- [Evaluation and Conceptual Understanding](#Evaluation-and-Conceptual-Understanding)\n",
    "- [Conclusions and Recommendations](#Conclusions-and-Recommendations)"
   ]
  },
  {
   "cell_type": "code",
   "execution_count": 1,
   "metadata": {},
   "outputs": [],
   "source": [
    "# imports:\n",
    "\n",
    "#maths\n",
    "import pandas as pd\n",
    "import numpy as np\n",
    "import scipy.stats as stats\n",
    "\n",
    "#visual\n",
    "import seaborn as sns\n",
    "import matplotlib.pyplot as plt\n",
    "\n",
    "#modelling\n",
    "from sklearn.linear_model import LinearRegression, LogisticRegression\n",
    "from sklearn import linear_model\n",
    "from sklearn.model_selection import train_test_split, cross_val_score, GridSearchCV\n",
    "from sklearn.preprocessing import StandardScaler, PolynomialFeatures\n",
    "from sklearn.linear_model import Ridge, Lasso\n",
    "from sklearn.metrics import r2_score, mean_squared_error, confusion_matrix, accuracy_score, roc_auc_score\n",
    "from sklearn.pipeline import make_pipeline, Pipeline\n",
    "\n",
    "%matplotlib inline"
   ]
  },
  {
   "cell_type": "markdown",
   "metadata": {},
   "source": [
    "## Data Import & Cleaning\n",
    "---\n",
    "#### Read Airbnb Singapore datasets \n",
    "\n",
    "Read in the `listing.csv` files and assign it to an appropriately named pandas dataframes."
   ]
  },
  {
   "cell_type": "code",
   "execution_count": 2,
   "metadata": {},
   "outputs": [],
   "source": [
    "airbnb_data = pd.read_csv('../data/listings.csv')"
   ]
  },
  {
   "cell_type": "code",
   "execution_count": 3,
   "metadata": {
    "scrolled": true
   },
   "outputs": [
    {
     "name": "stdout",
     "output_type": "stream",
     "text": [
      "<class 'pandas.core.frame.DataFrame'>\n",
      "RangeIndex: 8047 entries, 0 to 8046\n",
      "Columns: 106 entries, id to reviews_per_month\n",
      "dtypes: float64(20), int64(23), object(63)\n",
      "memory usage: 6.5+ MB\n"
     ]
    }
   ],
   "source": [
    "airbnb_data.info()"
   ]
  },
  {
   "cell_type": "code",
   "execution_count": 4,
   "metadata": {},
   "outputs": [],
   "source": [
    "airbnb_data.drop_duplicates(subset = 'name', inplace = True)"
   ]
  },
  {
   "cell_type": "code",
   "execution_count": 5,
   "metadata": {
    "scrolled": false
   },
   "outputs": [
    {
     "data": {
      "text/plain": [
       "['id',\n",
       " 'listing_url',\n",
       " 'scrape_id',\n",
       " 'last_scraped',\n",
       " 'name',\n",
       " 'summary',\n",
       " 'space',\n",
       " 'description',\n",
       " 'experiences_offered',\n",
       " 'neighborhood_overview',\n",
       " 'notes',\n",
       " 'transit',\n",
       " 'access',\n",
       " 'interaction',\n",
       " 'house_rules',\n",
       " 'thumbnail_url',\n",
       " 'medium_url',\n",
       " 'picture_url',\n",
       " 'xl_picture_url',\n",
       " 'host_id',\n",
       " 'host_url',\n",
       " 'host_name',\n",
       " 'host_since',\n",
       " 'host_location',\n",
       " 'host_about',\n",
       " 'host_response_time',\n",
       " 'host_response_rate',\n",
       " 'host_acceptance_rate',\n",
       " 'host_is_superhost',\n",
       " 'host_thumbnail_url',\n",
       " 'host_picture_url',\n",
       " 'host_neighbourhood',\n",
       " 'host_listings_count',\n",
       " 'host_total_listings_count',\n",
       " 'host_verifications',\n",
       " 'host_has_profile_pic',\n",
       " 'host_identity_verified',\n",
       " 'street',\n",
       " 'neighbourhood',\n",
       " 'neighbourhood_cleansed',\n",
       " 'neighbourhood_group_cleansed',\n",
       " 'city',\n",
       " 'state',\n",
       " 'zipcode',\n",
       " 'market',\n",
       " 'smart_location',\n",
       " 'country_code',\n",
       " 'country',\n",
       " 'latitude',\n",
       " 'longitude',\n",
       " 'is_location_exact',\n",
       " 'property_type',\n",
       " 'room_type',\n",
       " 'accommodates',\n",
       " 'bathrooms',\n",
       " 'bedrooms',\n",
       " 'beds',\n",
       " 'bed_type',\n",
       " 'amenities',\n",
       " 'square_feet',\n",
       " 'price',\n",
       " 'weekly_price',\n",
       " 'monthly_price',\n",
       " 'security_deposit',\n",
       " 'cleaning_fee',\n",
       " 'guests_included',\n",
       " 'extra_people',\n",
       " 'minimum_nights',\n",
       " 'maximum_nights',\n",
       " 'minimum_minimum_nights',\n",
       " 'maximum_minimum_nights',\n",
       " 'minimum_maximum_nights',\n",
       " 'maximum_maximum_nights',\n",
       " 'minimum_nights_avg_ntm',\n",
       " 'maximum_nights_avg_ntm',\n",
       " 'calendar_updated',\n",
       " 'has_availability',\n",
       " 'availability_30',\n",
       " 'availability_60',\n",
       " 'availability_90',\n",
       " 'availability_365',\n",
       " 'calendar_last_scraped',\n",
       " 'number_of_reviews',\n",
       " 'number_of_reviews_ltm',\n",
       " 'first_review',\n",
       " 'last_review',\n",
       " 'review_scores_rating',\n",
       " 'review_scores_accuracy',\n",
       " 'review_scores_cleanliness',\n",
       " 'review_scores_checkin',\n",
       " 'review_scores_communication',\n",
       " 'review_scores_location',\n",
       " 'review_scores_value',\n",
       " 'requires_license',\n",
       " 'license',\n",
       " 'jurisdiction_names',\n",
       " 'instant_bookable',\n",
       " 'is_business_travel_ready',\n",
       " 'cancellation_policy',\n",
       " 'require_guest_profile_picture',\n",
       " 'require_guest_phone_verification',\n",
       " 'calculated_host_listings_count',\n",
       " 'calculated_host_listings_count_entire_homes',\n",
       " 'calculated_host_listings_count_private_rooms',\n",
       " 'calculated_host_listings_count_shared_rooms',\n",
       " 'reviews_per_month']"
      ]
     },
     "execution_count": 5,
     "metadata": {},
     "output_type": "execute_result"
    }
   ],
   "source": [
    "# display all cols of airbnb data\n",
    "airbnb_cols = airbnb_data.columns.tolist()\n",
    "airbnb_cols"
   ]
  },
  {
   "cell_type": "markdown",
   "metadata": {},
   "source": [
    "#### Display Data"
   ]
  },
  {
   "cell_type": "code",
   "execution_count": 6,
   "metadata": {
    "scrolled": false
   },
   "outputs": [
    {
     "data": {
      "text/html": [
       "<div>\n",
       "<style scoped>\n",
       "    .dataframe tbody tr th:only-of-type {\n",
       "        vertical-align: middle;\n",
       "    }\n",
       "\n",
       "    .dataframe tbody tr th {\n",
       "        vertical-align: top;\n",
       "    }\n",
       "\n",
       "    .dataframe thead th {\n",
       "        text-align: right;\n",
       "    }\n",
       "</style>\n",
       "<table border=\"1\" class=\"dataframe\">\n",
       "  <thead>\n",
       "    <tr style=\"text-align: right;\">\n",
       "      <th></th>\n",
       "      <th>id</th>\n",
       "      <th>listing_url</th>\n",
       "      <th>scrape_id</th>\n",
       "      <th>last_scraped</th>\n",
       "      <th>name</th>\n",
       "      <th>summary</th>\n",
       "      <th>space</th>\n",
       "      <th>description</th>\n",
       "      <th>experiences_offered</th>\n",
       "      <th>neighborhood_overview</th>\n",
       "      <th>...</th>\n",
       "      <th>instant_bookable</th>\n",
       "      <th>is_business_travel_ready</th>\n",
       "      <th>cancellation_policy</th>\n",
       "      <th>require_guest_profile_picture</th>\n",
       "      <th>require_guest_phone_verification</th>\n",
       "      <th>calculated_host_listings_count</th>\n",
       "      <th>calculated_host_listings_count_entire_homes</th>\n",
       "      <th>calculated_host_listings_count_private_rooms</th>\n",
       "      <th>calculated_host_listings_count_shared_rooms</th>\n",
       "      <th>reviews_per_month</th>\n",
       "    </tr>\n",
       "  </thead>\n",
       "  <tbody>\n",
       "    <tr>\n",
       "      <th>0</th>\n",
       "      <td>49091</td>\n",
       "      <td>https://www.airbnb.com/rooms/49091</td>\n",
       "      <td>20200227171146</td>\n",
       "      <td>2020-02-28</td>\n",
       "      <td>COZICOMFORT LONG TERM STAY ROOM 2</td>\n",
       "      <td>NaN</td>\n",
       "      <td>This is Room No. 2.(available after Jan 15 201...</td>\n",
       "      <td>This is Room No. 2.(available after Jan 15 201...</td>\n",
       "      <td>none</td>\n",
       "      <td>NaN</td>\n",
       "      <td>...</td>\n",
       "      <td>f</td>\n",
       "      <td>f</td>\n",
       "      <td>flexible</td>\n",
       "      <td>t</td>\n",
       "      <td>t</td>\n",
       "      <td>2</td>\n",
       "      <td>0</td>\n",
       "      <td>2</td>\n",
       "      <td>0</td>\n",
       "      <td>0.01</td>\n",
       "    </tr>\n",
       "    <tr>\n",
       "      <th>1</th>\n",
       "      <td>50646</td>\n",
       "      <td>https://www.airbnb.com/rooms/50646</td>\n",
       "      <td>20200227171146</td>\n",
       "      <td>2020-02-27</td>\n",
       "      <td>Pleasant Room along Bukit Timah</td>\n",
       "      <td>Fully furnished bedroom with a nice view on th...</td>\n",
       "      <td>Good Condition room, bright &amp; windy. Comes wit...</td>\n",
       "      <td>Fully furnished bedroom with a nice view on th...</td>\n",
       "      <td>none</td>\n",
       "      <td>The serenity &amp; quiet surrounding makes it an i...</td>\n",
       "      <td>...</td>\n",
       "      <td>f</td>\n",
       "      <td>f</td>\n",
       "      <td>moderate</td>\n",
       "      <td>f</td>\n",
       "      <td>t</td>\n",
       "      <td>1</td>\n",
       "      <td>0</td>\n",
       "      <td>1</td>\n",
       "      <td>0</td>\n",
       "      <td>0.25</td>\n",
       "    </tr>\n",
       "    <tr>\n",
       "      <th>2</th>\n",
       "      <td>56334</td>\n",
       "      <td>https://www.airbnb.com/rooms/56334</td>\n",
       "      <td>20200227171146</td>\n",
       "      <td>2020-02-28</td>\n",
       "      <td>COZICOMFORT</td>\n",
       "      <td>NaN</td>\n",
       "      <td>This is Room no. 1. USD700 per month On the fa...</td>\n",
       "      <td>This is Room no. 1. USD700 per month On the fa...</td>\n",
       "      <td>none</td>\n",
       "      <td>NaN</td>\n",
       "      <td>...</td>\n",
       "      <td>f</td>\n",
       "      <td>f</td>\n",
       "      <td>flexible</td>\n",
       "      <td>t</td>\n",
       "      <td>t</td>\n",
       "      <td>2</td>\n",
       "      <td>0</td>\n",
       "      <td>2</td>\n",
       "      <td>0</td>\n",
       "      <td>0.19</td>\n",
       "    </tr>\n",
       "    <tr>\n",
       "      <th>3</th>\n",
       "      <td>71609</td>\n",
       "      <td>https://www.airbnb.com/rooms/71609</td>\n",
       "      <td>20200227171146</td>\n",
       "      <td>2020-02-28</td>\n",
       "      <td>Ensuite Room (Room 1 &amp; 2) near EXPO</td>\n",
       "      <td>For 3 (Website hidden by Airbnb) room 1&amp;2 and ...</td>\n",
       "      <td>Landed Homestay Room for Rental. Between Simei...</td>\n",
       "      <td>For 3 (Website hidden by Airbnb) room 1&amp;2 and ...</td>\n",
       "      <td>none</td>\n",
       "      <td>NaN</td>\n",
       "      <td>...</td>\n",
       "      <td>t</td>\n",
       "      <td>f</td>\n",
       "      <td>flexible</td>\n",
       "      <td>f</td>\n",
       "      <td>t</td>\n",
       "      <td>8</td>\n",
       "      <td>0</td>\n",
       "      <td>8</td>\n",
       "      <td>0</td>\n",
       "      <td>0.20</td>\n",
       "    </tr>\n",
       "    <tr>\n",
       "      <th>4</th>\n",
       "      <td>71896</td>\n",
       "      <td>https://www.airbnb.com/rooms/71896</td>\n",
       "      <td>20200227171146</td>\n",
       "      <td>2020-02-28</td>\n",
       "      <td>B&amp;B  Room 1 near Airport &amp; EXPO</td>\n",
       "      <td>NaN</td>\n",
       "      <td>Vocational Stay Deluxe Bedroom in Singapore.(N...</td>\n",
       "      <td>Vocational Stay Deluxe Bedroom in Singapore.(N...</td>\n",
       "      <td>none</td>\n",
       "      <td>NaN</td>\n",
       "      <td>...</td>\n",
       "      <td>t</td>\n",
       "      <td>f</td>\n",
       "      <td>moderate</td>\n",
       "      <td>f</td>\n",
       "      <td>t</td>\n",
       "      <td>8</td>\n",
       "      <td>0</td>\n",
       "      <td>8</td>\n",
       "      <td>0</td>\n",
       "      <td>0.23</td>\n",
       "    </tr>\n",
       "  </tbody>\n",
       "</table>\n",
       "<p>5 rows × 106 columns</p>\n",
       "</div>"
      ],
      "text/plain": [
       "      id                         listing_url       scrape_id last_scraped  \\\n",
       "0  49091  https://www.airbnb.com/rooms/49091  20200227171146   2020-02-28   \n",
       "1  50646  https://www.airbnb.com/rooms/50646  20200227171146   2020-02-27   \n",
       "2  56334  https://www.airbnb.com/rooms/56334  20200227171146   2020-02-28   \n",
       "3  71609  https://www.airbnb.com/rooms/71609  20200227171146   2020-02-28   \n",
       "4  71896  https://www.airbnb.com/rooms/71896  20200227171146   2020-02-28   \n",
       "\n",
       "                                  name  \\\n",
       "0    COZICOMFORT LONG TERM STAY ROOM 2   \n",
       "1      Pleasant Room along Bukit Timah   \n",
       "2                          COZICOMFORT   \n",
       "3  Ensuite Room (Room 1 & 2) near EXPO   \n",
       "4      B&B  Room 1 near Airport & EXPO   \n",
       "\n",
       "                                             summary  \\\n",
       "0                                                NaN   \n",
       "1  Fully furnished bedroom with a nice view on th...   \n",
       "2                                                NaN   \n",
       "3  For 3 (Website hidden by Airbnb) room 1&2 and ...   \n",
       "4                                                NaN   \n",
       "\n",
       "                                               space  \\\n",
       "0  This is Room No. 2.(available after Jan 15 201...   \n",
       "1  Good Condition room, bright & windy. Comes wit...   \n",
       "2  This is Room no. 1. USD700 per month On the fa...   \n",
       "3  Landed Homestay Room for Rental. Between Simei...   \n",
       "4  Vocational Stay Deluxe Bedroom in Singapore.(N...   \n",
       "\n",
       "                                         description experiences_offered  \\\n",
       "0  This is Room No. 2.(available after Jan 15 201...                none   \n",
       "1  Fully furnished bedroom with a nice view on th...                none   \n",
       "2  This is Room no. 1. USD700 per month On the fa...                none   \n",
       "3  For 3 (Website hidden by Airbnb) room 1&2 and ...                none   \n",
       "4  Vocational Stay Deluxe Bedroom in Singapore.(N...                none   \n",
       "\n",
       "                               neighborhood_overview  ... instant_bookable  \\\n",
       "0                                                NaN  ...                f   \n",
       "1  The serenity & quiet surrounding makes it an i...  ...                f   \n",
       "2                                                NaN  ...                f   \n",
       "3                                                NaN  ...                t   \n",
       "4                                                NaN  ...                t   \n",
       "\n",
       "  is_business_travel_ready cancellation_policy require_guest_profile_picture  \\\n",
       "0                        f            flexible                             t   \n",
       "1                        f            moderate                             f   \n",
       "2                        f            flexible                             t   \n",
       "3                        f            flexible                             f   \n",
       "4                        f            moderate                             f   \n",
       "\n",
       "  require_guest_phone_verification  calculated_host_listings_count  \\\n",
       "0                                t                               2   \n",
       "1                                t                               1   \n",
       "2                                t                               2   \n",
       "3                                t                               8   \n",
       "4                                t                               8   \n",
       "\n",
       "   calculated_host_listings_count_entire_homes  \\\n",
       "0                                            0   \n",
       "1                                            0   \n",
       "2                                            0   \n",
       "3                                            0   \n",
       "4                                            0   \n",
       "\n",
       "  calculated_host_listings_count_private_rooms  \\\n",
       "0                                            2   \n",
       "1                                            1   \n",
       "2                                            2   \n",
       "3                                            8   \n",
       "4                                            8   \n",
       "\n",
       "   calculated_host_listings_count_shared_rooms  reviews_per_month  \n",
       "0                                            0               0.01  \n",
       "1                                            0               0.25  \n",
       "2                                            0               0.19  \n",
       "3                                            0               0.20  \n",
       "4                                            0               0.23  \n",
       "\n",
       "[5 rows x 106 columns]"
      ]
     },
     "execution_count": 6,
     "metadata": {},
     "output_type": "execute_result"
    }
   ],
   "source": [
    "airbnb_data.head()"
   ]
  },
  {
   "cell_type": "markdown",
   "metadata": {},
   "source": [
    "### Data cleaning: Initial check\n",
    "---\n",
    "\n",
    "Check the following in the cells below:\n",
    "1. Do we have any null values?\n",
    "2. Are any numerical columns being read wrongly?\n",
    "3. Remove columns that are not neccesary for price prediction"
   ]
  },
  {
   "cell_type": "code",
   "execution_count": 7,
   "metadata": {},
   "outputs": [],
   "source": [
    "null_values = airbnb_data.isnull().sum().sort_values(ascending=False)"
   ]
  },
  {
   "cell_type": "code",
   "execution_count": 8,
   "metadata": {},
   "outputs": [],
   "source": [
    "null_values_df = pd.DataFrame(data=null_values, columns=['no.'])"
   ]
  },
  {
   "cell_type": "code",
   "execution_count": 9,
   "metadata": {},
   "outputs": [
    {
     "data": {
      "text/html": [
       "<div>\n",
       "<style scoped>\n",
       "    .dataframe tbody tr th:only-of-type {\n",
       "        vertical-align: middle;\n",
       "    }\n",
       "\n",
       "    .dataframe tbody tr th {\n",
       "        vertical-align: top;\n",
       "    }\n",
       "\n",
       "    .dataframe thead th {\n",
       "        text-align: right;\n",
       "    }\n",
       "</style>\n",
       "<table border=\"1\" class=\"dataframe\">\n",
       "  <thead>\n",
       "    <tr style=\"text-align: right;\">\n",
       "      <th></th>\n",
       "      <th>no.</th>\n",
       "    </tr>\n",
       "  </thead>\n",
       "  <tbody>\n",
       "    <tr>\n",
       "      <th>jurisdiction_names</th>\n",
       "      <td>7429</td>\n",
       "    </tr>\n",
       "    <tr>\n",
       "      <th>xl_picture_url</th>\n",
       "      <td>7429</td>\n",
       "    </tr>\n",
       "    <tr>\n",
       "      <th>medium_url</th>\n",
       "      <td>7429</td>\n",
       "    </tr>\n",
       "    <tr>\n",
       "      <th>thumbnail_url</th>\n",
       "      <td>7429</td>\n",
       "    </tr>\n",
       "    <tr>\n",
       "      <th>license</th>\n",
       "      <td>7423</td>\n",
       "    </tr>\n",
       "  </tbody>\n",
       "</table>\n",
       "</div>"
      ],
      "text/plain": [
       "                     no.\n",
       "jurisdiction_names  7429\n",
       "xl_picture_url      7429\n",
       "medium_url          7429\n",
       "thumbnail_url       7429\n",
       "license             7423"
      ]
     },
     "execution_count": 9,
     "metadata": {},
     "output_type": "execute_result"
    }
   ],
   "source": [
    "null_values_df.head(5)"
   ]
  },
  {
   "cell_type": "markdown",
   "metadata": {},
   "source": [
    "### Dropping initial columns\n",
    "---\n",
    "Dropping all columns that contain the word `review` since the inital prediction of prices would not inlcude any reviews yet.\n",
    "\n"
   ]
  },
  {
   "cell_type": "code",
   "execution_count": 10,
   "metadata": {},
   "outputs": [],
   "source": [
    "# removing all columns focuses on reviews\n",
    "airbnb_data = airbnb_data[airbnb_data.columns.drop(list(airbnb_data.filter(regex='review')))]"
   ]
  },
  {
   "cell_type": "markdown",
   "metadata": {},
   "source": [
    "In creation of this initial model, I will not be using NLP. NLP can be used subsequently for sentimental analysis for further predictions if needed. As such, I will be dropping text based features such as `listing_url`, etc."
   ]
  },
  {
   "cell_type": "code",
   "execution_count": 11,
   "metadata": {},
   "outputs": [],
   "source": [
    "# removing all columns that contains url\n",
    "airbnb_data = airbnb_data[airbnb_data.columns.drop(list(airbnb_data.filter(regex='url')))]"
   ]
  },
  {
   "cell_type": "code",
   "execution_count": 12,
   "metadata": {},
   "outputs": [],
   "source": [
    "# remove columns that are descriptive/irrelevant\n",
    "des_col = ['scrape_id',\n",
    "           'last_scraped',\n",
    "           'summary',\n",
    "           'name',\n",
    "           'transit',                              #drop cause transit is decriptive and can be derived from neighborhood\n",
    "           'space',\n",
    "           'description',\n",
    "           'experiences_offered',\n",
    "           'neighborhood_overview',\n",
    "           'notes', \n",
    "           'access',\n",
    "           'interaction',                          #drop cause descriptive and not needed in inital prediction\n",
    "           'house_rules',\n",
    "           'host_id',\n",
    "           'host_name',\n",
    "           'host_about',\n",
    "           'host_listings_count',\n",
    "           'city',                                 #drop cause this is limited to SG\n",
    "           'state',\n",
    "           'country_code',\n",
    "           'country',\n",
    "           'minimum_minimum_nights',               #drop cause repeated\n",
    "           'maximum_minimum_nights',\n",
    "           'minimum_maximum_nights',\n",
    "           'maximum_maximum_nights',\n",
    "           'minimum_nights_avg_ntm',\n",
    "           'maximum_nights_avg_ntm',\n",
    "           'calendar_last_scraped',\n",
    "           'jurisdiction_names',                   #drop not needed/all nulls\n",
    "           'is_business_travel_ready',             #drop because all are F\n",
    "           'requires_license',                     #drop becuase all are F\n",
    "           'calculated_host_listings_count',\n",
    "           'host_response_time',                   #drop because these are obtained after you have been a host\n",
    "           'host_response_rate',\n",
    "           'host_acceptance_rate',\n",
    "           'host_neighbourhood',\n",
    "           'host_location',\n",
    "           'zipcode',                             #drop zipcode, can interpret area \n",
    "           'market']                              #drop market as it just refers to SG\n",
    "\n",
    "airbnb_data = airbnb_data.drop(des_col, axis=1)"
   ]
  },
  {
   "cell_type": "markdown",
   "metadata": {},
   "source": [
    "### Data cleaning: Null Values\n",
    "---\n",
    "Looking at remaining null and missing values."
   ]
  },
  {
   "cell_type": "code",
   "execution_count": 13,
   "metadata": {
    "scrolled": false
   },
   "outputs": [
    {
     "data": {
      "text/plain": [
       "license                      7423\n",
       "square_feet                  7387\n",
       "weekly_price                 6948\n",
       "monthly_price                6867\n",
       "security_deposit             2201\n",
       "cleaning_fee                 1992\n",
       "beds                           47\n",
       "bedrooms                        9\n",
       "bathrooms                       4\n",
       "neighbourhood                   3\n",
       "host_identity_verified          0\n",
       "host_verifications              0\n",
       "accommodates                    0\n",
       "room_type                       0\n",
       "host_since                      0\n",
       "host_is_superhost               0\n",
       "host_total_listings_count       0\n",
       "property_type                   0\n",
       "street                          0\n",
       "is_location_exact               0\n",
       "dtype: int64"
      ]
     },
     "execution_count": 13,
     "metadata": {},
     "output_type": "execute_result"
    }
   ],
   "source": [
    "# remaining null values\n",
    "airbnb_data.isnull().sum().sort_values(ascending=False).head(20)"
   ]
  },
  {
   "cell_type": "code",
   "execution_count": 14,
   "metadata": {},
   "outputs": [],
   "source": [
    "# drop columns that have >80% missing values as we will mot be able to infer much\n",
    "airbnb_data = airbnb_data.drop(['license',\n",
    "                                'square_feet',\n",
    "                                'weekly_price',\n",
    "                                'monthly_price'], axis=1)"
   ]
  },
  {
   "cell_type": "code",
   "execution_count": 15,
   "metadata": {},
   "outputs": [],
   "source": [
    "# fill in 0 for security_deposit, cleaning fee as nan just indicates that there is zero security_deposit and cleaning_fee\n",
    "airbnb_data = airbnb_data.fillna({'security_deposit':0,'cleaning_fee':0})"
   ]
  },
  {
   "cell_type": "code",
   "execution_count": 16,
   "metadata": {},
   "outputs": [],
   "source": [
    "# fill in mean for beds, bedrooms, bathrooms indicate that there isnt one present for that house\n",
    "for col in ['bathrooms', 'bedrooms', 'beds']:\n",
    "    airbnb_data[col].fillna(airbnb_data[col].median(), inplace=True)"
   ]
  },
  {
   "cell_type": "code",
   "execution_count": 17,
   "metadata": {
    "scrolled": true
   },
   "outputs": [
    {
     "data": {
      "text/plain": [
       "neighbourhood                                  3\n",
       "calculated_host_listings_count_shared_rooms    0\n",
       "neighbourhood_group_cleansed                   0\n",
       "bathrooms                                      0\n",
       "accommodates                                   0\n",
       "room_type                                      0\n",
       "property_type                                  0\n",
       "is_location_exact                              0\n",
       "longitude                                      0\n",
       "latitude                                       0\n",
       "smart_location                                 0\n",
       "neighbourhood_cleansed                         0\n",
       "beds                                           0\n",
       "street                                         0\n",
       "host_identity_verified                         0\n",
       "host_has_profile_pic                           0\n",
       "host_verifications                             0\n",
       "host_total_listings_count                      0\n",
       "host_is_superhost                              0\n",
       "host_since                                     0\n",
       "dtype: int64"
      ]
     },
     "execution_count": 17,
     "metadata": {},
     "output_type": "execute_result"
    }
   ],
   "source": [
    "airbnb_data.isnull().sum().sort_values(ascending=False).head(20)"
   ]
  },
  {
   "cell_type": "code",
   "execution_count": 18,
   "metadata": {},
   "outputs": [
    {
     "data": {
      "text/html": [
       "<div>\n",
       "<style scoped>\n",
       "    .dataframe tbody tr th:only-of-type {\n",
       "        vertical-align: middle;\n",
       "    }\n",
       "\n",
       "    .dataframe tbody tr th {\n",
       "        vertical-align: top;\n",
       "    }\n",
       "\n",
       "    .dataframe thead th {\n",
       "        text-align: right;\n",
       "    }\n",
       "</style>\n",
       "<table border=\"1\" class=\"dataframe\">\n",
       "  <thead>\n",
       "    <tr style=\"text-align: right;\">\n",
       "      <th></th>\n",
       "      <th>id</th>\n",
       "      <th>host_since</th>\n",
       "      <th>host_is_superhost</th>\n",
       "      <th>host_total_listings_count</th>\n",
       "      <th>host_verifications</th>\n",
       "      <th>host_has_profile_pic</th>\n",
       "      <th>host_identity_verified</th>\n",
       "      <th>street</th>\n",
       "      <th>neighbourhood</th>\n",
       "      <th>neighbourhood_cleansed</th>\n",
       "      <th>...</th>\n",
       "      <th>availability_60</th>\n",
       "      <th>availability_90</th>\n",
       "      <th>availability_365</th>\n",
       "      <th>instant_bookable</th>\n",
       "      <th>cancellation_policy</th>\n",
       "      <th>require_guest_profile_picture</th>\n",
       "      <th>require_guest_phone_verification</th>\n",
       "      <th>calculated_host_listings_count_entire_homes</th>\n",
       "      <th>calculated_host_listings_count_private_rooms</th>\n",
       "      <th>calculated_host_listings_count_shared_rooms</th>\n",
       "    </tr>\n",
       "  </thead>\n",
       "  <tbody>\n",
       "    <tr>\n",
       "      <th>0</th>\n",
       "      <td>49091</td>\n",
       "      <td>2010-10-20</td>\n",
       "      <td>f</td>\n",
       "      <td>2</td>\n",
       "      <td>['email', 'phone', 'facebook', 'reviews', 'jum...</td>\n",
       "      <td>t</td>\n",
       "      <td>f</td>\n",
       "      <td>Singapore, Singapore</td>\n",
       "      <td>Woodlands</td>\n",
       "      <td>Woodlands</td>\n",
       "      <td>...</td>\n",
       "      <td>60</td>\n",
       "      <td>90</td>\n",
       "      <td>365</td>\n",
       "      <td>f</td>\n",
       "      <td>flexible</td>\n",
       "      <td>t</td>\n",
       "      <td>t</td>\n",
       "      <td>0</td>\n",
       "      <td>2</td>\n",
       "      <td>0</td>\n",
       "    </tr>\n",
       "    <tr>\n",
       "      <th>1</th>\n",
       "      <td>50646</td>\n",
       "      <td>2010-09-08</td>\n",
       "      <td>f</td>\n",
       "      <td>1</td>\n",
       "      <td>['email', 'phone', 'facebook', 'reviews', 'off...</td>\n",
       "      <td>t</td>\n",
       "      <td>f</td>\n",
       "      <td>Singapore, Singapore</td>\n",
       "      <td>Bukit Timah</td>\n",
       "      <td>Bukit Timah</td>\n",
       "      <td>...</td>\n",
       "      <td>60</td>\n",
       "      <td>90</td>\n",
       "      <td>365</td>\n",
       "      <td>f</td>\n",
       "      <td>moderate</td>\n",
       "      <td>f</td>\n",
       "      <td>t</td>\n",
       "      <td>0</td>\n",
       "      <td>1</td>\n",
       "      <td>0</td>\n",
       "    </tr>\n",
       "    <tr>\n",
       "      <th>2</th>\n",
       "      <td>56334</td>\n",
       "      <td>2010-10-20</td>\n",
       "      <td>f</td>\n",
       "      <td>2</td>\n",
       "      <td>['email', 'phone', 'facebook', 'reviews', 'jum...</td>\n",
       "      <td>t</td>\n",
       "      <td>f</td>\n",
       "      <td>Singapore, Singapore</td>\n",
       "      <td>Woodlands</td>\n",
       "      <td>Woodlands</td>\n",
       "      <td>...</td>\n",
       "      <td>60</td>\n",
       "      <td>90</td>\n",
       "      <td>365</td>\n",
       "      <td>f</td>\n",
       "      <td>flexible</td>\n",
       "      <td>t</td>\n",
       "      <td>t</td>\n",
       "      <td>0</td>\n",
       "      <td>2</td>\n",
       "      <td>0</td>\n",
       "    </tr>\n",
       "    <tr>\n",
       "      <th>3</th>\n",
       "      <td>71609</td>\n",
       "      <td>2011-01-29</td>\n",
       "      <td>f</td>\n",
       "      <td>8</td>\n",
       "      <td>['email', 'phone', 'reviews', 'manual_offline'...</td>\n",
       "      <td>t</td>\n",
       "      <td>t</td>\n",
       "      <td>Singapore, Singapore</td>\n",
       "      <td>Tampines</td>\n",
       "      <td>Tampines</td>\n",
       "      <td>...</td>\n",
       "      <td>60</td>\n",
       "      <td>90</td>\n",
       "      <td>365</td>\n",
       "      <td>t</td>\n",
       "      <td>flexible</td>\n",
       "      <td>f</td>\n",
       "      <td>t</td>\n",
       "      <td>0</td>\n",
       "      <td>8</td>\n",
       "      <td>0</td>\n",
       "    </tr>\n",
       "    <tr>\n",
       "      <th>4</th>\n",
       "      <td>71896</td>\n",
       "      <td>2011-01-29</td>\n",
       "      <td>f</td>\n",
       "      <td>8</td>\n",
       "      <td>['email', 'phone', 'reviews', 'manual_offline'...</td>\n",
       "      <td>t</td>\n",
       "      <td>t</td>\n",
       "      <td>Singapore, Singapore</td>\n",
       "      <td>Tampines</td>\n",
       "      <td>Tampines</td>\n",
       "      <td>...</td>\n",
       "      <td>60</td>\n",
       "      <td>90</td>\n",
       "      <td>365</td>\n",
       "      <td>t</td>\n",
       "      <td>moderate</td>\n",
       "      <td>f</td>\n",
       "      <td>t</td>\n",
       "      <td>0</td>\n",
       "      <td>8</td>\n",
       "      <td>0</td>\n",
       "    </tr>\n",
       "    <tr>\n",
       "      <th>...</th>\n",
       "      <td>...</td>\n",
       "      <td>...</td>\n",
       "      <td>...</td>\n",
       "      <td>...</td>\n",
       "      <td>...</td>\n",
       "      <td>...</td>\n",
       "      <td>...</td>\n",
       "      <td>...</td>\n",
       "      <td>...</td>\n",
       "      <td>...</td>\n",
       "      <td>...</td>\n",
       "      <td>...</td>\n",
       "      <td>...</td>\n",
       "      <td>...</td>\n",
       "      <td>...</td>\n",
       "      <td>...</td>\n",
       "      <td>...</td>\n",
       "      <td>...</td>\n",
       "      <td>...</td>\n",
       "      <td>...</td>\n",
       "      <td>...</td>\n",
       "    </tr>\n",
       "    <tr>\n",
       "      <th>6132</th>\n",
       "      <td>37257081</td>\n",
       "      <td>2016-10-24</td>\n",
       "      <td>f</td>\n",
       "      <td>2</td>\n",
       "      <td>['email', 'phone', 'reviews']</td>\n",
       "      <td>t</td>\n",
       "      <td>f</td>\n",
       "      <td>Singapore, Singapore</td>\n",
       "      <td>Keppel Bay</td>\n",
       "      <td>Bukit Merah</td>\n",
       "      <td>...</td>\n",
       "      <td>58</td>\n",
       "      <td>88</td>\n",
       "      <td>363</td>\n",
       "      <td>t</td>\n",
       "      <td>flexible</td>\n",
       "      <td>f</td>\n",
       "      <td>f</td>\n",
       "      <td>3</td>\n",
       "      <td>0</td>\n",
       "      <td>0</td>\n",
       "    </tr>\n",
       "    <tr>\n",
       "      <th>6191</th>\n",
       "      <td>37535420</td>\n",
       "      <td>2019-08-06</td>\n",
       "      <td>f</td>\n",
       "      <td>0</td>\n",
       "      <td>['phone']</td>\n",
       "      <td>t</td>\n",
       "      <td>f</td>\n",
       "      <td>Singapore, Singapore</td>\n",
       "      <td>Keppel Bay</td>\n",
       "      <td>Bukit Merah</td>\n",
       "      <td>...</td>\n",
       "      <td>0</td>\n",
       "      <td>0</td>\n",
       "      <td>0</td>\n",
       "      <td>t</td>\n",
       "      <td>flexible</td>\n",
       "      <td>f</td>\n",
       "      <td>f</td>\n",
       "      <td>1</td>\n",
       "      <td>1</td>\n",
       "      <td>0</td>\n",
       "    </tr>\n",
       "    <tr>\n",
       "      <th>6211</th>\n",
       "      <td>37634184</td>\n",
       "      <td>2016-03-17</td>\n",
       "      <td>t</td>\n",
       "      <td>3</td>\n",
       "      <td>['email', 'phone', 'reviews', 'offline_governm...</td>\n",
       "      <td>t</td>\n",
       "      <td>f</td>\n",
       "      <td>Singapore, Singapore</td>\n",
       "      <td>Sungei Kadut</td>\n",
       "      <td>Sungei Kadut</td>\n",
       "      <td>...</td>\n",
       "      <td>60</td>\n",
       "      <td>90</td>\n",
       "      <td>365</td>\n",
       "      <td>f</td>\n",
       "      <td>flexible</td>\n",
       "      <td>f</td>\n",
       "      <td>f</td>\n",
       "      <td>0</td>\n",
       "      <td>4</td>\n",
       "      <td>0</td>\n",
       "    </tr>\n",
       "    <tr>\n",
       "      <th>7295</th>\n",
       "      <td>41015331</td>\n",
       "      <td>2015-05-22</td>\n",
       "      <td>f</td>\n",
       "      <td>5</td>\n",
       "      <td>['phone', 'reviews', 'offline_government_id', ...</td>\n",
       "      <td>t</td>\n",
       "      <td>f</td>\n",
       "      <td>Singapore, Singapore</td>\n",
       "      <td>Dempsey</td>\n",
       "      <td>Tanglin</td>\n",
       "      <td>...</td>\n",
       "      <td>23</td>\n",
       "      <td>41</td>\n",
       "      <td>42</td>\n",
       "      <td>f</td>\n",
       "      <td>flexible</td>\n",
       "      <td>f</td>\n",
       "      <td>f</td>\n",
       "      <td>5</td>\n",
       "      <td>0</td>\n",
       "      <td>0</td>\n",
       "    </tr>\n",
       "    <tr>\n",
       "      <th>7505</th>\n",
       "      <td>41385846</td>\n",
       "      <td>2015-05-22</td>\n",
       "      <td>f</td>\n",
       "      <td>5</td>\n",
       "      <td>['phone', 'reviews', 'offline_government_id', ...</td>\n",
       "      <td>t</td>\n",
       "      <td>f</td>\n",
       "      <td>Singapore, Singapore</td>\n",
       "      <td>Dempsey</td>\n",
       "      <td>Tanglin</td>\n",
       "      <td>...</td>\n",
       "      <td>33</td>\n",
       "      <td>63</td>\n",
       "      <td>68</td>\n",
       "      <td>f</td>\n",
       "      <td>flexible</td>\n",
       "      <td>f</td>\n",
       "      <td>f</td>\n",
       "      <td>5</td>\n",
       "      <td>0</td>\n",
       "      <td>0</td>\n",
       "    </tr>\n",
       "  </tbody>\n",
       "</table>\n",
       "<p>211 rows × 43 columns</p>\n",
       "</div>"
      ],
      "text/plain": [
       "            id  host_since host_is_superhost  host_total_listings_count  \\\n",
       "0        49091  2010-10-20                 f                          2   \n",
       "1        50646  2010-09-08                 f                          1   \n",
       "2        56334  2010-10-20                 f                          2   \n",
       "3        71609  2011-01-29                 f                          8   \n",
       "4        71896  2011-01-29                 f                          8   \n",
       "...        ...         ...               ...                        ...   \n",
       "6132  37257081  2016-10-24                 f                          2   \n",
       "6191  37535420  2019-08-06                 f                          0   \n",
       "6211  37634184  2016-03-17                 t                          3   \n",
       "7295  41015331  2015-05-22                 f                          5   \n",
       "7505  41385846  2015-05-22                 f                          5   \n",
       "\n",
       "                                     host_verifications host_has_profile_pic  \\\n",
       "0     ['email', 'phone', 'facebook', 'reviews', 'jum...                    t   \n",
       "1     ['email', 'phone', 'facebook', 'reviews', 'off...                    t   \n",
       "2     ['email', 'phone', 'facebook', 'reviews', 'jum...                    t   \n",
       "3     ['email', 'phone', 'reviews', 'manual_offline'...                    t   \n",
       "4     ['email', 'phone', 'reviews', 'manual_offline'...                    t   \n",
       "...                                                 ...                  ...   \n",
       "6132                      ['email', 'phone', 'reviews']                    t   \n",
       "6191                                          ['phone']                    t   \n",
       "6211  ['email', 'phone', 'reviews', 'offline_governm...                    t   \n",
       "7295  ['phone', 'reviews', 'offline_government_id', ...                    t   \n",
       "7505  ['phone', 'reviews', 'offline_government_id', ...                    t   \n",
       "\n",
       "     host_identity_verified                street neighbourhood  \\\n",
       "0                         f  Singapore, Singapore     Woodlands   \n",
       "1                         f  Singapore, Singapore   Bukit Timah   \n",
       "2                         f  Singapore, Singapore     Woodlands   \n",
       "3                         t  Singapore, Singapore      Tampines   \n",
       "4                         t  Singapore, Singapore      Tampines   \n",
       "...                     ...                   ...           ...   \n",
       "6132                      f  Singapore, Singapore    Keppel Bay   \n",
       "6191                      f  Singapore, Singapore    Keppel Bay   \n",
       "6211                      f  Singapore, Singapore  Sungei Kadut   \n",
       "7295                      f  Singapore, Singapore       Dempsey   \n",
       "7505                      f  Singapore, Singapore       Dempsey   \n",
       "\n",
       "     neighbourhood_cleansed  ... availability_60 availability_90  \\\n",
       "0                 Woodlands  ...              60              90   \n",
       "1               Bukit Timah  ...              60              90   \n",
       "2                 Woodlands  ...              60              90   \n",
       "3                  Tampines  ...              60              90   \n",
       "4                  Tampines  ...              60              90   \n",
       "...                     ...  ...             ...             ...   \n",
       "6132            Bukit Merah  ...              58              88   \n",
       "6191            Bukit Merah  ...               0               0   \n",
       "6211           Sungei Kadut  ...              60              90   \n",
       "7295                Tanglin  ...              23              41   \n",
       "7505                Tanglin  ...              33              63   \n",
       "\n",
       "      availability_365  instant_bookable cancellation_policy  \\\n",
       "0                  365                 f            flexible   \n",
       "1                  365                 f            moderate   \n",
       "2                  365                 f            flexible   \n",
       "3                  365                 t            flexible   \n",
       "4                  365                 t            moderate   \n",
       "...                ...               ...                 ...   \n",
       "6132               363                 t            flexible   \n",
       "6191                 0                 t            flexible   \n",
       "6211               365                 f            flexible   \n",
       "7295                42                 f            flexible   \n",
       "7505                68                 f            flexible   \n",
       "\n",
       "     require_guest_profile_picture require_guest_phone_verification  \\\n",
       "0                                t                                t   \n",
       "1                                f                                t   \n",
       "2                                t                                t   \n",
       "3                                f                                t   \n",
       "4                                f                                t   \n",
       "...                            ...                              ...   \n",
       "6132                             f                                f   \n",
       "6191                             f                                f   \n",
       "6211                             f                                f   \n",
       "7295                             f                                f   \n",
       "7505                             f                                f   \n",
       "\n",
       "      calculated_host_listings_count_entire_homes  \\\n",
       "0                                               0   \n",
       "1                                               0   \n",
       "2                                               0   \n",
       "3                                               0   \n",
       "4                                               0   \n",
       "...                                           ...   \n",
       "6132                                            3   \n",
       "6191                                            1   \n",
       "6211                                            0   \n",
       "7295                                            5   \n",
       "7505                                            5   \n",
       "\n",
       "      calculated_host_listings_count_private_rooms  \\\n",
       "0                                                2   \n",
       "1                                                1   \n",
       "2                                                2   \n",
       "3                                                8   \n",
       "4                                                8   \n",
       "...                                            ...   \n",
       "6132                                             0   \n",
       "6191                                             1   \n",
       "6211                                             4   \n",
       "7295                                             0   \n",
       "7505                                             0   \n",
       "\n",
       "      calculated_host_listings_count_shared_rooms  \n",
       "0                                               0  \n",
       "1                                               0  \n",
       "2                                               0  \n",
       "3                                               0  \n",
       "4                                               0  \n",
       "...                                           ...  \n",
       "6132                                            0  \n",
       "6191                                            0  \n",
       "6211                                            0  \n",
       "7295                                            0  \n",
       "7505                                            0  \n",
       "\n",
       "[211 rows x 43 columns]"
      ]
     },
     "execution_count": 18,
     "metadata": {},
     "output_type": "execute_result"
    }
   ],
   "source": [
    "airbnb_data.groupby('neighbourhood').head()"
   ]
  },
  {
   "cell_type": "code",
   "execution_count": 19,
   "metadata": {
    "scrolled": true
   },
   "outputs": [
    {
     "data": {
      "image/png": "[encoded data removed]",
      "text/plain": [
       "<Figure size 1440x1440 with 30 Axes>"
      ]
     },
     "metadata": {
      "needs_background": "light"
     },
     "output_type": "display_data"
    }
   ],
   "source": [
    "# Replacing columns with f/t with 0/1\n",
    "airbnb_data.replace({'f': 0, 't': 1}, inplace=True)\n",
    "\n",
    "# Plotting the distribution of numerical and boolean categories\n",
    "airbnb_data.hist(figsize=(20,20));"
   ]
  },
  {
   "cell_type": "markdown",
   "metadata": {},
   "source": [
    "From the above, it can be seen that several columns only contain one category and can be dropped:"
   ]
  },
  {
   "cell_type": "code",
   "execution_count": 20,
   "metadata": {},
   "outputs": [],
   "source": [
    "airbnb_data.drop(['has_availability',\n",
    "                  'host_has_profile_pic', \n",
    "                  'maximum_nights', \n",
    "                  'require_guest_phone_verification', \n",
    "                  'require_guest_profile_picture'], axis=1, inplace=True)"
   ]
  },
  {
   "cell_type": "code",
   "execution_count": 21,
   "metadata": {
    "scrolled": true
   },
   "outputs": [
    {
     "data": {
      "text/plain": [
       "strict_14_with_grace_period    4786\n",
       "flexible                       1469\n",
       "moderate                       1165\n",
       "super_strict_60                   7\n",
       "super_strict_30                   2\n",
       "Name: cancellation_policy, dtype: int64"
      ]
     },
     "execution_count": 21,
     "metadata": {},
     "output_type": "execute_result"
    }
   ],
   "source": [
    "airbnb_data.cancellation_policy.value_counts()"
   ]
  },
  {
   "cell_type": "code",
   "execution_count": 22,
   "metadata": {},
   "outputs": [
    {
     "data": {
      "text/plain": [
       "id                                                int64\n",
       "host_since                                       object\n",
       "host_is_superhost                                 int64\n",
       "host_total_listings_count                         int64\n",
       "host_verifications                               object\n",
       "host_identity_verified                            int64\n",
       "street                                           object\n",
       "neighbourhood                                    object\n",
       "neighbourhood_cleansed                           object\n",
       "neighbourhood_group_cleansed                     object\n",
       "smart_location                                   object\n",
       "latitude                                        float64\n",
       "longitude                                       float64\n",
       "is_location_exact                                 int64\n",
       "property_type                                    object\n",
       "room_type                                        object\n",
       "accommodates                                      int64\n",
       "bathrooms                                       float64\n",
       "bedrooms                                        float64\n",
       "beds                                            float64\n",
       "bed_type                                         object\n",
       "amenities                                        object\n",
       "price                                            object\n",
       "security_deposit                                 object\n",
       "cleaning_fee                                     object\n",
       "guests_included                                   int64\n",
       "extra_people                                     object\n",
       "minimum_nights                                    int64\n",
       "calendar_updated                                 object\n",
       "availability_30                                   int64\n",
       "availability_60                                   int64\n",
       "availability_90                                   int64\n",
       "availability_365                                  int64\n",
       "instant_bookable                                  int64\n",
       "cancellation_policy                              object\n",
       "calculated_host_listings_count_entire_homes       int64\n",
       "calculated_host_listings_count_private_rooms      int64\n",
       "calculated_host_listings_count_shared_rooms       int64\n",
       "dtype: object"
      ]
     },
     "execution_count": 22,
     "metadata": {},
     "output_type": "execute_result"
    }
   ],
   "source": [
    "airbnb_data.dtypes"
   ]
  },
  {
   "cell_type": "code",
   "execution_count": 23,
   "metadata": {},
   "outputs": [],
   "source": [
    "# convert price to integer, string because of currency\n",
    "airbnb_data.price = airbnb_data.price.str[1:-3]\n",
    "airbnb_data.price = airbnb_data.price.str.replace(\",\", \"\")\n",
    "airbnb_data.price = airbnb_data.price.astype('int64')"
   ]
  },
  {
   "cell_type": "markdown",
   "metadata": {},
   "source": [
    "## EDA\n",
    "---"
   ]
  },
  {
   "cell_type": "code",
   "execution_count": 24,
   "metadata": {},
   "outputs": [
    {
     "name": "stdout",
     "output_type": "stream",
     "text": [
      "Nightly advertised prices range from $0 to $10000.\n"
     ]
    }
   ],
   "source": [
    "print(f\"Nightly advertised prices range from ${min(airbnb_data.price)} to ${max(airbnb_data.price)}.\")"
   ]
  },
  {
   "cell_type": "code",
   "execution_count": 25,
   "metadata": {},
   "outputs": [
    {
     "data": {
      "image/png": "[encoded data removed]",
      "text/plain": [
       "<Figure size 1440x288 with 1 Axes>"
      ]
     },
     "metadata": {
      "needs_background": "light"
     },
     "output_type": "display_data"
    }
   ],
   "source": [
    "# Distribution of prices from $0 to $10000\n",
    "plt.figure(figsize=(20,4))\n",
    "airbnb_data.price.hist(bins=100, range=(0,1000))\n",
    "plt.margins(x=0)\n",
    "# plt.axvline(1, color='orange', linestyle='--')\n",
    "plt.title(\"Airbnb advertised nightly prices in Singapore up to $10000\", fontsize=16)\n",
    "plt.xlabel(\"Price ($)\")\n",
    "plt.ylabel(\"Number of listings\")\n",
    "plt.show()"
   ]
  },
  {
   "cell_type": "code",
   "execution_count": 26,
   "metadata": {
    "scrolled": true
   },
   "outputs": [
    {
     "data": {
      "image/png": "[encoded data removed]",
      "text/plain": [
       "<Figure size 720x360 with 1 Axes>"
      ]
     },
     "metadata": {
      "needs_background": "light"
     },
     "output_type": "display_data"
    }
   ],
   "source": [
    "plt.figure(figsize=(10,5))\n",
    "airbnb_data.groupby('accommodates').price.median().plot(kind='bar')\n",
    "plt.title('Median price of Airbnbs accommodating different number of guests', fontsize=14)\n",
    "plt.xlabel('Number of guests accommodated', fontsize=13)\n",
    "plt.ylabel('Median price ($)', fontsize=13)\n",
    "plt.xticks(rotation=0)\n",
    "plt.xlim(left=0.5)\n",
    "plt.show()"
   ]
  },
  {
   "cell_type": "code",
   "execution_count": 27,
   "metadata": {},
   "outputs": [
    {
     "data": {
      "image/png": "[encoded data removed]",
      "text/plain": [
       "<Figure size 720x360 with 1 Axes>"
      ]
     },
     "metadata": {
      "needs_background": "light"
     },
     "output_type": "display_data"
    }
   ],
   "source": [
    "plt.figure(figsize=(10,5))\n",
    "airbnb_data.groupby('beds').price.median().plot(kind='bar')\n",
    "plt.title('Median price of Airbnbs for number of beds', fontsize=14)\n",
    "plt.xlabel('Number of guests accommodated', fontsize=13)\n",
    "plt.ylabel('Median price ($)', fontsize=13)\n",
    "plt.xticks(rotation=0)\n",
    "plt.xlim(left=0.5)\n",
    "plt.show()"
   ]
  },
  {
   "cell_type": "code",
   "execution_count": 28,
   "metadata": {},
   "outputs": [],
   "source": [
    "def category_count_plot(col, figsize=(8,4)):\n",
    " \n",
    "    plt.figure(figsize=figsize)\n",
    "    airbnb_data[col].value_counts().plot(kind='bar')\n",
    "    plt.title(col)\n",
    "    plt.xticks(rotation=0)\n",
    "    plt.show()"
   ]
  },
  {
   "cell_type": "code",
   "execution_count": 29,
   "metadata": {},
   "outputs": [
    {
     "data": {
      "image/png": "[encoded data removed]",
      "text/plain": [
       "<Figure size 288x216 with 1 Axes>"
      ]
     },
     "metadata": {
      "needs_background": "light"
     },
     "output_type": "display_data"
    },
    {
     "name": "stdout",
     "output_type": "stream",
     "text": [
      "Apartment                 0.407053\n",
      "Condominium               0.269888\n",
      "Serviced apartment        0.097994\n",
      "House                     0.070938\n",
      "Hostel                    0.037825\n",
      "Boutique hotel            0.024229\n",
      "Hotel                     0.019653\n",
      "Loft                      0.016826\n",
      "Townhouse                 0.016288\n",
      "Bungalow                  0.008480\n",
      "Bed and breakfast         0.008346\n",
      "Other                     0.006461\n",
      "Aparthotel                0.004442\n",
      "Guesthouse                0.003365\n",
      "Guest suite               0.003231\n",
      "Villa                     0.001615\n",
      "Tent                      0.000808\n",
      "Boat                      0.000808\n",
      "Chalet                    0.000404\n",
      "Campsite                  0.000404\n",
      "Tiny house                0.000269\n",
      "Cabin                     0.000135\n",
      "Earth house               0.000135\n",
      "Bus                       0.000135\n",
      "Farm stay                 0.000135\n",
      "Heritage hotel (India)    0.000135\n",
      "Name: property_type, dtype: float64\n"
     ]
    },
    {
     "data": {
      "image/png": "[encoded data removed]",
      "text/plain": [
       "<Figure size 288x216 with 1 Axes>"
      ]
     },
     "metadata": {
      "needs_background": "light"
     },
     "output_type": "display_data"
    },
    {
     "name": "stdout",
     "output_type": "stream",
     "text": [
      "Entire home/apt    0.469242\n",
      "Private room       0.435725\n",
      "Hotel room         0.064881\n",
      "Shared room        0.030152\n",
      "Name: room_type, dtype: float64\n"
     ]
    }
   ],
   "source": [
    "for col in ['property_type', 'room_type']:\n",
    "    category_count_plot(col, figsize=(4,3))\n",
    "    print(airbnb_data[col].value_counts(normalize=True))"
   ]
  },
  {
   "cell_type": "code",
   "execution_count": null,
   "metadata": {},
   "outputs": [],
   "source": []
  },
  {
   "cell_type": "code",
   "execution_count": null,
   "metadata": {},
   "outputs": [],
   "source": []
  },
  {
   "cell_type": "markdown",
   "metadata": {},
   "source": [
    "## EDA & Modeling"
   ]
  },
  {
   "cell_type": "code",
   "execution_count": null,
   "metadata": {},
   "outputs": [],
   "source": []
  }
 ],
 "metadata": {
  "anaconda-cloud": {},
  "kernelspec": {
   "display_name": "Python 3",
   "language": "python",
   "name": "python3"
  },
  "language_info": {
   "codemirror_mode": {
    "name": "ipython",
    "version": 3
   },
   "file_extension": ".py",
   "mimetype": "text/x-python",
   "name": "python",
   "nbconvert_exporter": "python",
   "pygments_lexer": "ipython3",
   "version": "3.8.1"
  }
 },
 "nbformat": 4,
 "nbformat_minor": 2
}
